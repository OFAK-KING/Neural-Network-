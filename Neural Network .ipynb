{
 "cells": [
  {
   "cell_type": "markdown",
   "metadata": {},
   "source": [
    "**Importing Libraries**"
   ]
  },
  {
   "cell_type": "code",
   "execution_count": 2,
   "metadata": {},
   "outputs": [
    {
     "name": "stderr",
     "output_type": "stream",
     "text": [
      "Using TensorFlow backend.\n"
     ]
    }
   ],
   "source": [
    "import numpy as np\n",
    "import pandas as pd\n",
    "from matplotlib import pyplot as plt\n",
    "from sklearn import preprocessing\n",
    "from sklearn.model_selection import train_test_split\n",
    "from sklearn.metrics import confusion_matrix, classification_report\n",
    "from keras.models import Sequential as Seq\n",
    "from keras.layers import Dense\n",
    "from keras.constraints import unit_norm #to force weights to have a magnitude of 1.0\n",
    "from keras.optimizers import SGD \n",
    "from sklearn.metrics import confusion_matrix\n",
    "from keras.utils import to_categorical"
   ]
  },
  {
   "cell_type": "markdown",
   "metadata": {},
   "source": [
    "# Importing and Preprocessing Data"
   ]
  },
  {
   "cell_type": "code",
   "execution_count": 3,
   "metadata": {},
   "outputs": [
    {
     "name": "stdout",
     "output_type": "stream",
     "text": [
      "(1592, 266)\n",
      "1592\n"
     ]
    }
   ],
   "source": [
    "path = '../Codes/'\n",
    "filename = 'semeionCSV.csv'\n",
    "df = pd.read_csv(path+filename)\n",
    "print(df.shape) #checking the shape of the dataset\n",
    "print(len(df)) # checking if the full rows of the data was imported  "
   ]
  },
  {
   "cell_type": "code",
   "execution_count": 4,
   "metadata": {},
   "outputs": [],
   "source": [
    "pd.set_option('display.max_columns', 266)\n",
    "#print(df.head()) #printing out few entries of the data from the top row eventhough have accessed it in notpad and excel++\n",
    "#print(df.tail()) #printing out few entries of the data from the bottom row eventhough have accessed it in notpad++"
   ]
  },
  {
   "cell_type": "code",
   "execution_count": 5,
   "metadata": {},
   "outputs": [],
   "source": [
    "#Check if there is column tht contains all zeros\n",
    "df = df.loc[:, (df != 0).any(axis=0)]\n",
    "#print(df.shape) #checking the shape of the dataset"
   ]
  },
  {
   "cell_type": "markdown",
   "metadata": {},
   "source": [
    "### Dividing the Dataset into Predictor and Response Variable"
   ]
  },
  {
   "cell_type": "code",
   "execution_count": 6,
   "metadata": {},
   "outputs": [],
   "source": [
    "Dependent = df[df.columns[256:]].copy()\n",
    "#print(Dependent)"
   ]
  },
  {
   "cell_type": "code",
   "execution_count": 7,
   "metadata": {},
   "outputs": [],
   "source": [
    "Independent = df[df.columns[:256]].copy()\n",
    "#print(Independent)\n",
    "Independent25 = Independent "
   ]
  },
  {
   "cell_type": "markdown",
   "metadata": {},
   "source": [
    "**Standardize** (to regress the data mean to 0 and standard deviation to 1) the features so that the model can converge fast "
   ]
  },
  {
   "cell_type": "code",
   "execution_count": 8,
   "metadata": {},
   "outputs": [
    {
     "name": "stderr",
     "output_type": "stream",
     "text": [
      "C:\\Users\\CHERPENS\\Anaconda3\\lib\\site-packages\\sklearn\\preprocessing\\data.py:645: DataConversionWarning: Data with input dtype int64 were all converted to float64 by StandardScaler.\n",
      "  return self.partial_fit(X, y)\n",
      "C:\\Users\\CHERPENS\\Anaconda3\\lib\\site-packages\\ipykernel_launcher.py:2: DataConversionWarning: Data with input dtype int64 were all converted to float64 by StandardScaler.\n",
      "  \n"
     ]
    }
   ],
   "source": [
    "standardize = preprocessing.StandardScaler().fit(Independent)\n",
    "Independent = standardize.transform(Independent)\n",
    "#print(Independent)"
   ]
  },
  {
   "cell_type": "code",
   "execution_count": 9,
   "metadata": {},
   "outputs": [
    {
     "data": {
      "text/plain": [
       "(1592, 256)"
      ]
     },
     "execution_count": 9,
     "metadata": {},
     "output_type": "execute_result"
    }
   ],
   "source": [
    "Independent.shape"
   ]
  },
  {
   "cell_type": "markdown",
   "metadata": {},
   "source": [
    "**Creating Training and Testing Set**"
   ]
  },
  {
   "cell_type": "code",
   "execution_count": 10,
   "metadata": {},
   "outputs": [],
   "source": [
    "#Split the Data into Training and Testing Set 70/30 respectively \n",
    "Indep_train, Indep_test, Dep_train, Dep_test = train_test_split(Independent, Dependent, test_size=0.30, random_state=0)"
   ]
  },
  {
   "cell_type": "markdown",
   "metadata": {},
   "source": [
    "## Building the Neural Network"
   ]
  },
  {
   "cell_type": "code",
   "execution_count": 11,
   "metadata": {},
   "outputs": [],
   "source": [
    "# Define and Initialising the CNN Model\n",
    "NN_Model = Seq()"
   ]
  },
  {
   "cell_type": "markdown",
   "metadata": {},
   "source": [
    "### Adding 20 Hidden and 10 output layers to the model"
   ]
  },
  {
   "cell_type": "code",
   "execution_count": 12,
   "metadata": {},
   "outputs": [
    {
     "name": "stdout",
     "output_type": "stream",
     "text": [
      "WARNING:tensorflow:From C:\\Users\\CHERPENS\\Anaconda3\\lib\\site-packages\\tensorflow\\python\\framework\\op_def_library.py:263: colocate_with (from tensorflow.python.framework.ops) is deprecated and will be removed in a future version.\n",
      "Instructions for updating:\n",
      "Colocations handled automatically by placer.\n"
     ]
    }
   ],
   "source": [
    "#Adding 20 Hidden and 10 output layers to the model\n",
    "NN_Model.add(Dense(20, input_dim = 256, bias_constraint = unit_norm(axis = 0),\n",
    "                   activation = 'sigmoid'))\n",
    "NN_Model.add(Dense(10, bias_constraint = unit_norm(axis = 0), activation = 'sigmoid'))"
   ]
  },
  {
   "cell_type": "markdown",
   "metadata": {},
   "source": [
    "**Setting Up SGD Backpropagation with Learning Rate**"
   ]
  },
  {
   "cell_type": "code",
   "execution_count": 13,
   "metadata": {},
   "outputs": [],
   "source": [
    "BPSGD_opt = SGD(lr=0.1) #Set the learning rate to 0.1"
   ]
  },
  {
   "cell_type": "markdown",
   "metadata": {},
   "source": [
    "**Model Compilation**"
   ]
  },
  {
   "cell_type": "code",
   "execution_count": 14,
   "metadata": {},
   "outputs": [],
   "source": [
    "NN_Model.compile(optimizer = BPSGD_opt, loss = 'categorical_crossentropy', metrics = ['accuracy'])"
   ]
  },
  {
   "cell_type": "code",
   "execution_count": 15,
   "metadata": {},
   "outputs": [
    {
     "name": "stdout",
     "output_type": "stream",
     "text": [
      "_________________________________________________________________\n",
      "Layer (type)                 Output Shape              Param #   \n",
      "=================================================================\n",
      "dense_1 (Dense)              (None, 20)                5140      \n",
      "_________________________________________________________________\n",
      "dense_2 (Dense)              (None, 10)                210       \n",
      "=================================================================\n",
      "Total params: 5,350\n",
      "Trainable params: 5,350\n",
      "Non-trainable params: 0\n",
      "_________________________________________________________________\n"
     ]
    }
   ],
   "source": [
    "NN_Model.summary()"
   ]
  },
  {
   "cell_type": "markdown",
   "metadata": {},
   "source": [
    "**Fitting the NN Model**"
   ]
  },
  {
   "cell_type": "code",
   "execution_count": 16,
   "metadata": {},
   "outputs": [
    {
     "name": "stdout",
     "output_type": "stream",
     "text": [
      "WARNING:tensorflow:From C:\\Users\\CHERPENS\\Anaconda3\\lib\\site-packages\\tensorflow\\python\\ops\\math_ops.py:3066: to_int32 (from tensorflow.python.ops.math_ops) is deprecated and will be removed in a future version.\n",
      "Instructions for updating:\n",
      "Use tf.cast instead.\n",
      "Train on 1114 samples, validate on 478 samples\n",
      "Epoch 1/50\n",
      "1114/1114 [==============================] - 0s 378us/step - loss: 2.2696 - acc: 0.1194 - val_loss: 2.2076 - val_acc: 0.1736\n",
      "Epoch 2/50\n",
      "1114/1114 [==============================] - 0s 75us/step - loss: 2.1488 - acc: 0.2846 - val_loss: 2.1100 - val_acc: 0.3431\n",
      "Epoch 3/50\n",
      "1114/1114 [==============================] - 0s 72us/step - loss: 2.0418 - acc: 0.4578 - val_loss: 2.0051 - val_acc: 0.4979\n",
      "Epoch 4/50\n",
      "1114/1114 [==============================] - 0s 66us/step - loss: 1.9209 - acc: 0.6257 - val_loss: 1.8810 - val_acc: 0.6464\n",
      "Epoch 5/50\n",
      "1114/1114 [==============================] - 0s 71us/step - loss: 1.7783 - acc: 0.7101 - val_loss: 1.7383 - val_acc: 0.7197\n",
      "Epoch 6/50\n",
      "1114/1114 [==============================] - 0s 85us/step - loss: 1.6208 - acc: 0.7756 - val_loss: 1.5876 - val_acc: 0.7699\n",
      "Epoch 7/50\n",
      "1114/1114 [==============================] - 0s 69us/step - loss: 1.4600 - acc: 0.8178 - val_loss: 1.4399 - val_acc: 0.7845\n",
      "Epoch 8/50\n",
      "1114/1114 [==============================] - 0s 84us/step - loss: 1.3056 - acc: 0.8456 - val_loss: 1.3018 - val_acc: 0.8033\n",
      "Epoch 9/50\n",
      "1114/1114 [==============================] - 0s 78us/step - loss: 1.1628 - acc: 0.8609 - val_loss: 1.1777 - val_acc: 0.8201\n",
      "Epoch 10/50\n",
      "1114/1114 [==============================] - 0s 67us/step - loss: 1.0350 - acc: 0.8815 - val_loss: 1.0668 - val_acc: 0.8473\n",
      "Epoch 11/50\n",
      "1114/1114 [==============================] - 0s 75us/step - loss: 0.9221 - acc: 0.9039 - val_loss: 0.9720 - val_acc: 0.8536\n",
      "Epoch 12/50\n",
      "1114/1114 [==============================] - 0s 73us/step - loss: 0.8246 - acc: 0.9120 - val_loss: 0.8887 - val_acc: 0.8661\n",
      "Epoch 13/50\n",
      "1114/1114 [==============================] - 0s 85us/step - loss: 0.7398 - acc: 0.9300 - val_loss: 0.8169 - val_acc: 0.8766\n",
      "Epoch 14/50\n",
      "1114/1114 [==============================] - 0s 74us/step - loss: 0.6669 - acc: 0.9291 - val_loss: 0.7568 - val_acc: 0.8870\n",
      "Epoch 15/50\n",
      "1114/1114 [==============================] - 0s 73us/step - loss: 0.6042 - acc: 0.9336 - val_loss: 0.7058 - val_acc: 0.8912\n",
      "Epoch 16/50\n",
      "1114/1114 [==============================] - 0s 75us/step - loss: 0.5505 - acc: 0.9399 - val_loss: 0.6631 - val_acc: 0.8912\n",
      "Epoch 17/50\n",
      "1114/1114 [==============================] - 0s 79us/step - loss: 0.5034 - acc: 0.9425 - val_loss: 0.6244 - val_acc: 0.8912\n",
      "Epoch 18/50\n",
      "1114/1114 [==============================] - 0s 75us/step - loss: 0.4631 - acc: 0.9470 - val_loss: 0.5908 - val_acc: 0.8996\n",
      "Epoch 19/50\n",
      "1114/1114 [==============================] - 0s 82us/step - loss: 0.4273 - acc: 0.9506 - val_loss: 0.5636 - val_acc: 0.8954\n",
      "Epoch 20/50\n",
      "1114/1114 [==============================] - 0s 68us/step - loss: 0.3963 - acc: 0.9560 - val_loss: 0.5385 - val_acc: 0.9079\n",
      "Epoch 21/50\n",
      "1114/1114 [==============================] - 0s 71us/step - loss: 0.3684 - acc: 0.9650 - val_loss: 0.5174 - val_acc: 0.9038\n",
      "Epoch 22/50\n",
      "1114/1114 [==============================] - 0s 90us/step - loss: 0.3442 - acc: 0.9686 - val_loss: 0.4989 - val_acc: 0.9059\n",
      "Epoch 23/50\n",
      "1114/1114 [==============================] - 0s 76us/step - loss: 0.3221 - acc: 0.9695 - val_loss: 0.4832 - val_acc: 0.9079\n",
      "Epoch 24/50\n",
      "1114/1114 [==============================] - 0s 72us/step - loss: 0.3026 - acc: 0.9740 - val_loss: 0.4683 - val_acc: 0.9100\n",
      "Epoch 25/50\n",
      "1114/1114 [==============================] - 0s 96us/step - loss: 0.2849 - acc: 0.9785 - val_loss: 0.4557 - val_acc: 0.9059\n",
      "Epoch 26/50\n",
      "1114/1114 [==============================] - 0s 67us/step - loss: 0.2686 - acc: 0.9785 - val_loss: 0.4452 - val_acc: 0.9079\n",
      "Epoch 27/50\n",
      "1114/1114 [==============================] - 0s 97us/step - loss: 0.2540 - acc: 0.9803 - val_loss: 0.4347 - val_acc: 0.9100\n",
      "Epoch 28/50\n",
      "1114/1114 [==============================] - 0s 81us/step - loss: 0.2410 - acc: 0.9820 - val_loss: 0.4257 - val_acc: 0.9059\n",
      "Epoch 29/50\n",
      "1114/1114 [==============================] - 0s 79us/step - loss: 0.2287 - acc: 0.9847 - val_loss: 0.4173 - val_acc: 0.9121\n",
      "Epoch 30/50\n",
      "1114/1114 [==============================] - 0s 91us/step - loss: 0.2176 - acc: 0.9829 - val_loss: 0.4100 - val_acc: 0.9100\n",
      "Epoch 31/50\n",
      "1114/1114 [==============================] - 0s 80us/step - loss: 0.2072 - acc: 0.9856 - val_loss: 0.4028 - val_acc: 0.9121\n",
      "Epoch 32/50\n",
      "1114/1114 [==============================] - 0s 80us/step - loss: 0.1979 - acc: 0.9856 - val_loss: 0.3969 - val_acc: 0.9100\n",
      "Epoch 33/50\n",
      "1114/1114 [==============================] - 0s 96us/step - loss: 0.1890 - acc: 0.9883 - val_loss: 0.3910 - val_acc: 0.9100\n",
      "Epoch 34/50\n",
      "1114/1114 [==============================] - 0s 87us/step - loss: 0.1808 - acc: 0.9901 - val_loss: 0.3859 - val_acc: 0.9121\n",
      "Epoch 35/50\n",
      "1114/1114 [==============================] - 0s 77us/step - loss: 0.1731 - acc: 0.9901 - val_loss: 0.3812 - val_acc: 0.9079\n",
      "Epoch 36/50\n",
      "1114/1114 [==============================] - 0s 86us/step - loss: 0.1662 - acc: 0.9910 - val_loss: 0.3768 - val_acc: 0.9059\n",
      "Epoch 37/50\n",
      "1114/1114 [==============================] - 0s 83us/step - loss: 0.1596 - acc: 0.9910 - val_loss: 0.3730 - val_acc: 0.9079\n",
      "Epoch 38/50\n",
      "1114/1114 [==============================] - 0s 82us/step - loss: 0.1534 - acc: 0.9910 - val_loss: 0.3689 - val_acc: 0.9059\n",
      "Epoch 39/50\n",
      "1114/1114 [==============================] - 0s 70us/step - loss: 0.1475 - acc: 0.9919 - val_loss: 0.3657 - val_acc: 0.9059\n",
      "Epoch 40/50\n",
      "1114/1114 [==============================] - 0s 81us/step - loss: 0.1421 - acc: 0.9928 - val_loss: 0.3622 - val_acc: 0.9059\n",
      "Epoch 41/50\n",
      "1114/1114 [==============================] - 0s 91us/step - loss: 0.1368 - acc: 0.9937 - val_loss: 0.3593 - val_acc: 0.9059\n",
      "Epoch 42/50\n",
      "1114/1114 [==============================] - 0s 81us/step - loss: 0.1321 - acc: 0.9946 - val_loss: 0.3562 - val_acc: 0.9038\n",
      "Epoch 43/50\n",
      "1114/1114 [==============================] - 0s 88us/step - loss: 0.1275 - acc: 0.9955 - val_loss: 0.3538 - val_acc: 0.9038\n",
      "Epoch 44/50\n",
      "1114/1114 [==============================] - 0s 73us/step - loss: 0.1234 - acc: 0.9964 - val_loss: 0.3518 - val_acc: 0.9038\n",
      "Epoch 45/50\n",
      "1114/1114 [==============================] - 0s 73us/step - loss: 0.1192 - acc: 0.9964 - val_loss: 0.3494 - val_acc: 0.9059\n",
      "Epoch 46/50\n",
      "1114/1114 [==============================] - 0s 88us/step - loss: 0.1155 - acc: 0.9964 - val_loss: 0.3475 - val_acc: 0.9059\n",
      "Epoch 47/50\n",
      "1114/1114 [==============================] - 0s 80us/step - loss: 0.1118 - acc: 0.9964 - val_loss: 0.3458 - val_acc: 0.9059\n",
      "Epoch 48/50\n",
      "1114/1114 [==============================] - 0s 70us/step - loss: 0.1085 - acc: 0.9964 - val_loss: 0.3438 - val_acc: 0.9038\n",
      "Epoch 49/50\n",
      "1114/1114 [==============================] - 0s 67us/step - loss: 0.1052 - acc: 0.9964 - val_loss: 0.3422 - val_acc: 0.9059\n",
      "Epoch 50/50\n",
      "1114/1114 [==============================] - 0s 73us/step - loss: 0.1020 - acc: 0.9964 - val_loss: 0.3404 - val_acc: 0.9038\n"
     ]
    }
   ],
   "source": [
    "NN_Model_Capture = NN_Model.fit(Indep_train, Dep_train, epochs = 50, \n",
    "                                validation_data = (Indep_test, Dep_test))"
   ]
  },
  {
   "cell_type": "markdown",
   "metadata": {},
   "source": [
    "#### Accuracy on Training AND Test Set"
   ]
  },
  {
   "cell_type": "code",
   "execution_count": 17,
   "metadata": {},
   "outputs": [
    {
     "name": "stdout",
     "output_type": "stream",
     "text": [
      "Accuracy for Training Set: 0.996409\n",
      "Lossfor Training Set: 0.098664\n"
     ]
    }
   ],
   "source": [
    "loss, accuracy = NN_Model.evaluate(Indep_train, Dep_train, verbose=0)\n",
    "print('Accuracy for Training Set: %f' % (accuracy))\n",
    "print('Lossfor Training Set: %f' % (loss))"
   ]
  },
  {
   "cell_type": "code",
   "execution_count": 18,
   "metadata": {},
   "outputs": [
    {
     "name": "stdout",
     "output_type": "stream",
     "text": [
      "Accuracy for Training Set: 0.903766\n",
      "Lossfor Training Set: 0.340352\n"
     ]
    }
   ],
   "source": [
    "loss, accuracy = NN_Model.evaluate(Indep_test, Dep_test, verbose=0)\n",
    "print('Accuracy for Training Set: %f' % (accuracy))\n",
    "print('Lossfor Training Set: %f' % (loss))"
   ]
  },
  {
   "cell_type": "code",
   "execution_count": 19,
   "metadata": {},
   "outputs": [
    {
     "name": "stdout",
     "output_type": "stream",
     "text": [
      "Accuracy for Training Set: 0.9068761219640714\n",
      "Accuracy for Test Set: 0.8495397491198203\n"
     ]
    }
   ],
   "source": [
    "print('Accuracy for Training Set:', np.mean(NN_Model_Capture.history[\"acc\"]))\n",
    "print('Accuracy for Test Set:', np.mean(NN_Model_Capture.history[\"val_acc\"]))"
   ]
  },
  {
   "cell_type": "markdown",
   "metadata": {},
   "source": [
    "#### Confusion Matrix"
   ]
  },
  {
   "cell_type": "code",
   "execution_count": 106,
   "metadata": {},
   "outputs": [],
   "source": [
    "Dependent_Pred = NN_Model.predict(Indep_test)\n",
    "Predicted_classes = np.argmax(Dependent_Pred, axis = 1)"
   ]
  },
  {
   "cell_type": "code",
   "execution_count": 107,
   "metadata": {},
   "outputs": [
    {
     "data": {
      "text/plain": [
       "array([[49,  0,  0,  0,  0,  0,  0,  0,  0,  0],\n",
       "       [ 0, 46,  1,  0,  0,  0,  0,  0,  0,  0],\n",
       "       [ 0,  4, 41,  0,  1,  0,  2,  0,  2,  0],\n",
       "       [ 0,  0,  0, 34,  1,  2,  0,  2,  0,  2],\n",
       "       [ 0,  3,  0,  0, 47,  0,  1,  0,  0,  1],\n",
       "       [ 0,  0,  0,  2,  0, 47,  0,  1,  1,  1],\n",
       "       [ 0,  0,  0,  0,  0,  0, 46,  0,  0,  0],\n",
       "       [ 0,  3,  1,  0,  0,  0,  0, 36,  0,  1],\n",
       "       [ 1,  1,  5,  0,  0,  0,  0,  0, 39,  1],\n",
       "       [ 1,  1,  0,  3,  0,  0,  0,  1,  2, 45]], dtype=int64)"
      ]
     },
     "execution_count": 107,
     "metadata": {},
     "output_type": "execute_result"
    }
   ],
   "source": [
    "Confusion_Matrix = confusion_matrix(Dep_test.values.argmax(axis=1), Predicted_classes)\n",
    "Confusion_Matrix"
   ]
  },
  {
   "cell_type": "markdown",
   "metadata": {},
   "source": [
    "#### Summarized Result on the Test Set"
   ]
  },
  {
   "cell_type": "code",
   "execution_count": 108,
   "metadata": {},
   "outputs": [
    {
     "name": "stdout",
     "output_type": "stream",
     "text": [
      "              precision    recall  f1-score   support\n",
      "\n",
      "           0       0.96      1.00      0.98        49\n",
      "           1       0.79      0.98      0.88        47\n",
      "           2       0.85      0.82      0.84        50\n",
      "           3       0.87      0.83      0.85        41\n",
      "           4       0.96      0.90      0.93        52\n",
      "           5       0.96      0.90      0.93        52\n",
      "           6       0.94      1.00      0.97        46\n",
      "           7       0.90      0.88      0.89        41\n",
      "           8       0.89      0.83      0.86        47\n",
      "           9       0.88      0.85      0.87        53\n",
      "\n",
      "   micro avg       0.90      0.90      0.90       478\n",
      "   macro avg       0.90      0.90      0.90       478\n",
      "weighted avg       0.90      0.90      0.90       478\n",
      "\n"
     ]
    }
   ],
   "source": [
    "Summarized_Result = classification_report(Dep_test.values.argmax(axis=1), Predicted_classes)\n",
    "print(Summarized_Result)"
   ]
  },
  {
   "cell_type": "markdown",
   "metadata": {},
   "source": [
    "#### 1b. Give a plot of both training and test accuracy as a function of epoch number (graph both of these on sample plot)."
   ]
  },
  {
   "cell_type": "code",
   "execution_count": 109,
   "metadata": {},
   "outputs": [],
   "source": [
    "Capture_acc = NN_Model_Capture.history['acc']\n",
    "Capture_val_acc = NN_Model_Capture.history['val_acc']\n",
    "Capture_loss = NN_Model_Capture.history['loss']\n",
    "Capture_val_loss = NN_Model_Capture.history['val_loss']\n",
    "epochs = range(1, len(Capture_acc) + 1)"
   ]
  },
  {
   "cell_type": "code",
   "execution_count": 110,
   "metadata": {},
   "outputs": [
    {
     "data": {
      "text/plain": [
       "<Figure size 432x288 with 0 Axes>"
      ]
     },
     "execution_count": 110,
     "metadata": {},
     "output_type": "execute_result"
    },
    {
     "data": {
      "image/png": "[encoded data removed]",
      "text/plain": [
       "<Figure size 432x288 with 1 Axes>"
      ]
     },
     "metadata": {
      "needs_background": "light"
     },
     "output_type": "display_data"
    },
    {
     "data": {
      "text/plain": [
       "<Figure size 432x288 with 0 Axes>"
      ]
     },
     "metadata": {},
     "output_type": "display_data"
    }
   ],
   "source": [
    "plt.plot(epochs, Capture_acc, 'bo', label = 'Training Accuracy')\n",
    "plt.plot(epochs, Capture_val_acc, 'b', label = 'Test Accuracy')\n",
    "plt.title('Training and Test Accuracy as a Function of Epoch Number')\n",
    "plt.legend()\n",
    "plt.figure()"
   ]
  },
  {
   "cell_type": "markdown",
   "metadata": {},
   "source": [
    "# Question 1"
   ]
  },
  {
   "cell_type": "markdown",
   "metadata": {},
   "source": [
    "### 1a. Conduct experiments with n = 20, 50 and 100. (Hint: remember to include bias unit weights)."
   ]
  },
  {
   "cell_type": "markdown",
   "metadata": {},
   "source": [
    "#### ============================================================================================================================="
   ]
  },
  {
   "cell_type": "markdown",
   "metadata": {},
   "source": [
    "### Adding 50 Hidden and 10 output layers to the model"
   ]
  },
  {
   "cell_type": "code",
   "execution_count": 111,
   "metadata": {},
   "outputs": [],
   "source": [
    "NN_Model50 = Seq()"
   ]
  },
  {
   "cell_type": "code",
   "execution_count": 112,
   "metadata": {},
   "outputs": [],
   "source": [
    "#Adding 50 Hidden and 10 output layers to the model\n",
    "NN_Model50.add(Dense(50, input_dim = 256, bias_constraint = unit_norm(axis = 0),\n",
    "                   activation = 'sigmoid'))\n",
    "NN_Model50.add(Dense(10, bias_constraint = unit_norm(axis = 0), activation = 'sigmoid'))"
   ]
  },
  {
   "cell_type": "markdown",
   "metadata": {},
   "source": [
    "**Model Compilation**"
   ]
  },
  {
   "cell_type": "code",
   "execution_count": 113,
   "metadata": {},
   "outputs": [],
   "source": [
    "NN_Model50.compile(optimizer = BPSGD_opt, loss = 'categorical_crossentropy', metrics = ['accuracy'])"
   ]
  },
  {
   "cell_type": "code",
   "execution_count": 114,
   "metadata": {},
   "outputs": [
    {
     "name": "stdout",
     "output_type": "stream",
     "text": [
      "_________________________________________________________________\n",
      "Layer (type)                 Output Shape              Param #   \n",
      "=================================================================\n",
      "dense_15 (Dense)             (None, 50)                12850     \n",
      "_________________________________________________________________\n",
      "dense_16 (Dense)             (None, 10)                510       \n",
      "=================================================================\n",
      "Total params: 13,360\n",
      "Trainable params: 13,360\n",
      "Non-trainable params: 0\n",
      "_________________________________________________________________\n"
     ]
    }
   ],
   "source": [
    "NN_Model50.summary()"
   ]
  },
  {
   "cell_type": "markdown",
   "metadata": {},
   "source": [
    "**Fitting the NN Model**"
   ]
  },
  {
   "cell_type": "code",
   "execution_count": 115,
   "metadata": {},
   "outputs": [
    {
     "name": "stdout",
     "output_type": "stream",
     "text": [
      "Train on 1114 samples, validate on 478 samples\n",
      "Epoch 1/50\n",
      "1114/1114 [==============================] - 1s 540us/step - loss: 2.2087 - acc: 0.1786 - val_loss: 2.0725 - val_acc: 0.4247\n",
      "Epoch 2/50\n",
      "1114/1114 [==============================] - 0s 92us/step - loss: 1.9261 - acc: 0.5916 - val_loss: 1.8010 - val_acc: 0.6883\n",
      "Epoch 3/50\n",
      "1114/1114 [==============================] - 0s 78us/step - loss: 1.6073 - acc: 0.7594 - val_loss: 1.4892 - val_acc: 0.7510\n",
      "Epoch 4/50\n",
      "1114/1114 [==============================] - 0s 77us/step - loss: 1.2863 - acc: 0.8285 - val_loss: 1.2089 - val_acc: 0.8180\n",
      "Epoch 5/50\n",
      "1114/1114 [==============================] - 0s 89us/step - loss: 1.0264 - acc: 0.8582 - val_loss: 0.9996 - val_acc: 0.8285\n",
      "Epoch 6/50\n",
      "1114/1114 [==============================] - 0s 88us/step - loss: 0.8340 - acc: 0.8914 - val_loss: 0.8507 - val_acc: 0.8515\n",
      "Epoch 7/50\n",
      "1114/1114 [==============================] - 0s 81us/step - loss: 0.6960 - acc: 0.9039 - val_loss: 0.7393 - val_acc: 0.8556\n",
      "Epoch 8/50\n",
      "1114/1114 [==============================] - 0s 82us/step - loss: 0.5923 - acc: 0.9138 - val_loss: 0.6613 - val_acc: 0.8577\n",
      "Epoch 9/50\n",
      "1114/1114 [==============================] - 0s 82us/step - loss: 0.5140 - acc: 0.9246 - val_loss: 0.5971 - val_acc: 0.8661\n",
      "Epoch 10/50\n",
      "1114/1114 [==============================] - 0s 81us/step - loss: 0.4532 - acc: 0.9363 - val_loss: 0.5480 - val_acc: 0.8682\n",
      "Epoch 11/50\n",
      "1114/1114 [==============================] - 0s 80us/step - loss: 0.4033 - acc: 0.9470 - val_loss: 0.5086 - val_acc: 0.8724\n",
      "Epoch 12/50\n",
      "1114/1114 [==============================] - 0s 78us/step - loss: 0.3632 - acc: 0.9461 - val_loss: 0.4768 - val_acc: 0.8828\n",
      "Epoch 13/50\n",
      "1114/1114 [==============================] - 0s 87us/step - loss: 0.3302 - acc: 0.9497 - val_loss: 0.4516 - val_acc: 0.8849\n",
      "Epoch 14/50\n",
      "1114/1114 [==============================] - 0s 78us/step - loss: 0.3018 - acc: 0.9569 - val_loss: 0.4276 - val_acc: 0.8870\n",
      "Epoch 15/50\n",
      "1114/1114 [==============================] - 0s 80us/step - loss: 0.2776 - acc: 0.9632 - val_loss: 0.4095 - val_acc: 0.8954\n",
      "Epoch 16/50\n",
      "1114/1114 [==============================] - 0s 85us/step - loss: 0.2562 - acc: 0.9686 - val_loss: 0.3956 - val_acc: 0.9017\n",
      "Epoch 17/50\n",
      "1114/1114 [==============================] - 0s 93us/step - loss: 0.2376 - acc: 0.9686 - val_loss: 0.3795 - val_acc: 0.9100\n",
      "Epoch 18/50\n",
      "1114/1114 [==============================] - 0s 74us/step - loss: 0.2214 - acc: 0.9740 - val_loss: 0.3689 - val_acc: 0.9100\n",
      "Epoch 19/50\n",
      "1114/1114 [==============================] - 0s 80us/step - loss: 0.2064 - acc: 0.9767 - val_loss: 0.3573 - val_acc: 0.9121\n",
      "Epoch 20/50\n",
      "1114/1114 [==============================] - 0s 81us/step - loss: 0.1930 - acc: 0.9776 - val_loss: 0.3477 - val_acc: 0.9121\n",
      "Epoch 21/50\n",
      "1114/1114 [==============================] - 0s 74us/step - loss: 0.1819 - acc: 0.9794 - val_loss: 0.3389 - val_acc: 0.9142\n",
      "Epoch 22/50\n",
      "1114/1114 [==============================] - 0s 90us/step - loss: 0.1708 - acc: 0.9856 - val_loss: 0.3322 - val_acc: 0.9142\n",
      "Epoch 23/50\n",
      "1114/1114 [==============================] - 0s 88us/step - loss: 0.1612 - acc: 0.9856 - val_loss: 0.3258 - val_acc: 0.9205\n",
      "Epoch 24/50\n",
      "1114/1114 [==============================] - 0s 90us/step - loss: 0.1519 - acc: 0.9892 - val_loss: 0.3185 - val_acc: 0.9289\n",
      "Epoch 25/50\n",
      "1114/1114 [==============================] - 0s 86us/step - loss: 0.1440 - acc: 0.9901 - val_loss: 0.3140 - val_acc: 0.9205\n",
      "Epoch 26/50\n",
      "1114/1114 [==============================] - 0s 83us/step - loss: 0.1367 - acc: 0.9910 - val_loss: 0.3078 - val_acc: 0.9289\n",
      "Epoch 27/50\n",
      "1114/1114 [==============================] - 0s 76us/step - loss: 0.1299 - acc: 0.9910 - val_loss: 0.3033 - val_acc: 0.9268\n",
      "Epoch 28/50\n",
      "1114/1114 [==============================] - 0s 77us/step - loss: 0.1234 - acc: 0.9928 - val_loss: 0.3000 - val_acc: 0.9310\n",
      "Epoch 29/50\n",
      "1114/1114 [==============================] - 0s 84us/step - loss: 0.1176 - acc: 0.9928 - val_loss: 0.2958 - val_acc: 0.9310\n",
      "Epoch 30/50\n",
      "1114/1114 [==============================] - 0s 108us/step - loss: 0.1124 - acc: 0.9946 - val_loss: 0.2918 - val_acc: 0.9331\n",
      "Epoch 31/50\n",
      "1114/1114 [==============================] - 0s 81us/step - loss: 0.1074 - acc: 0.9955 - val_loss: 0.2884 - val_acc: 0.9331\n",
      "Epoch 32/50\n",
      "1114/1114 [==============================] - 0s 81us/step - loss: 0.1029 - acc: 0.9955 - val_loss: 0.2858 - val_acc: 0.9331\n",
      "Epoch 33/50\n",
      "1114/1114 [==============================] - 0s 90us/step - loss: 0.0984 - acc: 0.9946 - val_loss: 0.2831 - val_acc: 0.9331\n",
      "Epoch 34/50\n",
      "1114/1114 [==============================] - 0s 73us/step - loss: 0.0944 - acc: 0.9955 - val_loss: 0.2807 - val_acc: 0.9310\n",
      "Epoch 35/50\n",
      "1114/1114 [==============================] - 0s 90us/step - loss: 0.0907 - acc: 0.9964 - val_loss: 0.2784 - val_acc: 0.9310\n",
      "Epoch 36/50\n",
      "1114/1114 [==============================] - 0s 81us/step - loss: 0.0871 - acc: 0.9973 - val_loss: 0.2758 - val_acc: 0.9331\n",
      "Epoch 37/50\n",
      "1114/1114 [==============================] - 0s 85us/step - loss: 0.0838 - acc: 0.9973 - val_loss: 0.2736 - val_acc: 0.9351\n",
      "Epoch 38/50\n",
      "1114/1114 [==============================] - 0s 81us/step - loss: 0.0807 - acc: 0.9973 - val_loss: 0.2720 - val_acc: 0.9331\n",
      "Epoch 39/50\n",
      "1114/1114 [==============================] - 0s 85us/step - loss: 0.0778 - acc: 0.9973 - val_loss: 0.2699 - val_acc: 0.9310\n",
      "Epoch 40/50\n",
      "1114/1114 [==============================] - 0s 81us/step - loss: 0.0751 - acc: 0.9973 - val_loss: 0.2683 - val_acc: 0.9351\n",
      "Epoch 41/50\n",
      "1114/1114 [==============================] - 0s 83us/step - loss: 0.0724 - acc: 0.9973 - val_loss: 0.2672 - val_acc: 0.9331\n",
      "Epoch 42/50\n",
      "1114/1114 [==============================] - 0s 74us/step - loss: 0.0699 - acc: 0.9973 - val_loss: 0.2653 - val_acc: 0.9331\n",
      "Epoch 43/50\n",
      "1114/1114 [==============================] - 0s 79us/step - loss: 0.0677 - acc: 0.9973 - val_loss: 0.2640 - val_acc: 0.9331\n",
      "Epoch 44/50\n",
      "1114/1114 [==============================] - 0s 83us/step - loss: 0.0655 - acc: 0.9973 - val_loss: 0.2625 - val_acc: 0.9331\n",
      "Epoch 45/50\n",
      "1114/1114 [==============================] - 0s 80us/step - loss: 0.0634 - acc: 0.9973 - val_loss: 0.2614 - val_acc: 0.9331\n",
      "Epoch 46/50\n",
      "1114/1114 [==============================] - 0s 81us/step - loss: 0.0614 - acc: 0.9973 - val_loss: 0.2597 - val_acc: 0.9331\n",
      "Epoch 47/50\n",
      "1114/1114 [==============================] - 0s 79us/step - loss: 0.0596 - acc: 0.9973 - val_loss: 0.2587 - val_acc: 0.9331\n",
      "Epoch 48/50\n",
      "1114/1114 [==============================] - 0s 80us/step - loss: 0.0578 - acc: 0.9982 - val_loss: 0.2578 - val_acc: 0.9331\n",
      "Epoch 49/50\n",
      "1114/1114 [==============================] - 0s 82us/step - loss: 0.0561 - acc: 0.9982 - val_loss: 0.2566 - val_acc: 0.9331\n",
      "Epoch 50/50\n",
      "1114/1114 [==============================] - 0s 75us/step - loss: 0.0545 - acc: 0.9982 - val_loss: 0.2562 - val_acc: 0.9331\n"
     ]
    }
   ],
   "source": [
    "NN_Model_Capture = NN_Model50.fit(Indep_train, Dep_train, epochs = 50, \n",
    "                                validation_data = (Indep_test, Dep_test))"
   ]
  },
  {
   "cell_type": "markdown",
   "metadata": {},
   "source": [
    "#### Accuracy on Training AND Test Set"
   ]
  },
  {
   "cell_type": "code",
   "execution_count": 116,
   "metadata": {},
   "outputs": [
    {
     "name": "stdout",
     "output_type": "stream",
     "text": [
      "Accuracy for Training Set: 0.998205\n",
      "Lossfor Training Set: 0.052630\n"
     ]
    }
   ],
   "source": [
    "loss, accuracy = NN_Model50.evaluate(Indep_train, Dep_train, verbose=0)\n",
    "print('Accuracy for Training Set: %f' % (accuracy))\n",
    "print('Lossfor Training Set: %f' % (loss))"
   ]
  },
  {
   "cell_type": "code",
   "execution_count": 117,
   "metadata": {},
   "outputs": [
    {
     "name": "stdout",
     "output_type": "stream",
     "text": [
      "Accuracy for Training Set: 0.9449371632617937\n",
      "Accuracy for Test Set: 0.893723848147871\n"
     ]
    }
   ],
   "source": [
    "print('Accuracy for Training Set:', np.mean(NN_Model_Capture.history[\"acc\"]))\n",
    "print('Accuracy for Test Set:', np.mean(NN_Model_Capture.history[\"val_acc\"]))"
   ]
  },
  {
   "cell_type": "markdown",
   "metadata": {},
   "source": [
    "#### Confusion Matrix"
   ]
  },
  {
   "cell_type": "code",
   "execution_count": 118,
   "metadata": {},
   "outputs": [],
   "source": [
    "Dependent_Pred = NN_Model50.predict(Indep_test)\n",
    "Predicted_classes = np.argmax(Dependent_Pred, axis = 1)"
   ]
  },
  {
   "cell_type": "code",
   "execution_count": 119,
   "metadata": {},
   "outputs": [
    {
     "data": {
      "text/plain": [
       "array([[49,  0,  0,  0,  0,  0,  0,  0,  0,  0],\n",
       "       [ 0, 45,  0,  0,  0,  0,  0,  1,  0,  1],\n",
       "       [ 1,  1, 46,  0,  1,  0,  0,  0,  1,  0],\n",
       "       [ 0,  1,  0, 38,  0,  1,  0,  0,  0,  1],\n",
       "       [ 0,  2,  0,  0, 48,  0,  1,  0,  0,  1],\n",
       "       [ 0,  0,  0,  1,  0, 49,  0,  0,  1,  1],\n",
       "       [ 0,  0,  0,  0,  0,  0, 46,  0,  0,  0],\n",
       "       [ 0,  1,  0,  1,  1,  0,  1, 36,  1,  0],\n",
       "       [ 0,  1,  2,  0,  0,  0,  0,  0, 43,  1],\n",
       "       [ 1,  1,  0,  3,  0,  0,  0,  0,  2, 46]], dtype=int64)"
      ]
     },
     "execution_count": 119,
     "metadata": {},
     "output_type": "execute_result"
    }
   ],
   "source": [
    "Confusion_Matrix = confusion_matrix(Dep_test.values.argmax(axis=1), Predicted_classes)\n",
    "Confusion_Matrix"
   ]
  },
  {
   "cell_type": "markdown",
   "metadata": {},
   "source": [
    "#### Summarized Result on the Test Set"
   ]
  },
  {
   "cell_type": "code",
   "execution_count": 120,
   "metadata": {},
   "outputs": [
    {
     "name": "stdout",
     "output_type": "stream",
     "text": [
      "              precision    recall  f1-score   support\n",
      "\n",
      "           0       0.96      1.00      0.98        49\n",
      "           1       0.87      0.96      0.91        47\n",
      "           2       0.96      0.92      0.94        50\n",
      "           3       0.88      0.93      0.90        41\n",
      "           4       0.96      0.92      0.94        52\n",
      "           5       0.98      0.94      0.96        52\n",
      "           6       0.96      1.00      0.98        46\n",
      "           7       0.97      0.88      0.92        41\n",
      "           8       0.90      0.91      0.91        47\n",
      "           9       0.90      0.87      0.88        53\n",
      "\n",
      "   micro avg       0.93      0.93      0.93       478\n",
      "   macro avg       0.93      0.93      0.93       478\n",
      "weighted avg       0.93      0.93      0.93       478\n",
      "\n"
     ]
    }
   ],
   "source": [
    "Summarized_Result = classification_report(Dep_test.values.argmax(axis=1), Predicted_classes)\n",
    "print(Summarized_Result)"
   ]
  },
  {
   "cell_type": "markdown",
   "metadata": {},
   "source": [
    "#### 1b. Give a plot of both training and test accuracy as a function of epoch number (graph both of these on sample plot)."
   ]
  },
  {
   "cell_type": "code",
   "execution_count": 121,
   "metadata": {},
   "outputs": [],
   "source": [
    "Capture_acc = NN_Model_Capture.history['acc']\n",
    "Capture_val_acc = NN_Model_Capture.history['val_acc']\n",
    "Capture_loss = NN_Model_Capture.history['loss']\n",
    "Capture_val_loss = NN_Model_Capture.history['val_loss']\n",
    "epochs = range(1, len(Capture_acc) + 1)"
   ]
  },
  {
   "cell_type": "code",
   "execution_count": 122,
   "metadata": {},
   "outputs": [
    {
     "data": {
      "text/plain": [
       "<Figure size 432x288 with 0 Axes>"
      ]
     },
     "execution_count": 122,
     "metadata": {},
     "output_type": "execute_result"
    },
    {
     "data": {
      "image/png": "[encoded data removed]",
      "text/plain": [
       "<Figure size 432x288 with 1 Axes>"
      ]
     },
     "metadata": {
      "needs_background": "light"
     },
     "output_type": "display_data"
    },
    {
     "data": {
      "text/plain": [
       "<Figure size 432x288 with 0 Axes>"
      ]
     },
     "metadata": {},
     "output_type": "display_data"
    }
   ],
   "source": [
    "plt.plot(epochs, Capture_acc, 'bo', label = 'Training Accuracy')\n",
    "plt.plot(epochs, Capture_val_acc, 'b', label = 'Test Accuracy')\n",
    "plt.title('Training and Test Accuracy as a Function of Epoch Number')\n",
    "plt.legend()\n",
    "plt.figure()"
   ]
  },
  {
   "cell_type": "markdown",
   "metadata": {},
   "source": [
    "#### ============================================================================================================================="
   ]
  },
  {
   "cell_type": "markdown",
   "metadata": {},
   "source": [
    "### Adding 100 Hidden and 10 output layers to the model"
   ]
  },
  {
   "cell_type": "code",
   "execution_count": 127,
   "metadata": {},
   "outputs": [],
   "source": [
    "NN_Model100 = Seq()"
   ]
  },
  {
   "cell_type": "code",
   "execution_count": 128,
   "metadata": {},
   "outputs": [],
   "source": [
    "#Adding 50 Hidden and 10 output layers to the model\n",
    "NN_Model100.add(Dense(100, input_dim = 256, bias_constraint = unit_norm(axis = 0),\n",
    "                   activation = 'sigmoid'))\n",
    "NN_Model100.add(Dense(10, bias_constraint = unit_norm(axis = 0), activation = 'sigmoid'))"
   ]
  },
  {
   "cell_type": "markdown",
   "metadata": {},
   "source": [
    "**Model Compilation**"
   ]
  },
  {
   "cell_type": "code",
   "execution_count": 129,
   "metadata": {},
   "outputs": [],
   "source": [
    "NN_Model100.compile(optimizer = BPSGD_opt, loss = 'categorical_crossentropy', metrics = ['accuracy'])"
   ]
  },
  {
   "cell_type": "code",
   "execution_count": 130,
   "metadata": {},
   "outputs": [
    {
     "name": "stdout",
     "output_type": "stream",
     "text": [
      "_________________________________________________________________\n",
      "Layer (type)                 Output Shape              Param #   \n",
      "=================================================================\n",
      "dense_19 (Dense)             (None, 100)               25700     \n",
      "_________________________________________________________________\n",
      "dense_20 (Dense)             (None, 10)                1010      \n",
      "=================================================================\n",
      "Total params: 26,710\n",
      "Trainable params: 26,710\n",
      "Non-trainable params: 0\n",
      "_________________________________________________________________\n"
     ]
    }
   ],
   "source": [
    "NN_Model100.summary()"
   ]
  },
  {
   "cell_type": "markdown",
   "metadata": {},
   "source": [
    "**Fitting the NN Model**"
   ]
  },
  {
   "cell_type": "code",
   "execution_count": 131,
   "metadata": {},
   "outputs": [
    {
     "name": "stdout",
     "output_type": "stream",
     "text": [
      "Train on 1114 samples, validate on 478 samples\n",
      "Epoch 1/50\n",
      "1114/1114 [==============================] - 1s 584us/step - loss: 2.2177 - acc: 0.1697 - val_loss: 2.0613 - val_acc: 0.3619\n",
      "Epoch 2/50\n",
      "1114/1114 [==============================] - 0s 93us/step - loss: 1.8348 - acc: 0.6445 - val_loss: 1.5933 - val_acc: 0.7406\n",
      "Epoch 3/50\n",
      "1114/1114 [==============================] - 0s 81us/step - loss: 1.3203 - acc: 0.8061 - val_loss: 1.1645 - val_acc: 0.7887\n",
      "Epoch 4/50\n",
      "1114/1114 [==============================] - 0s 85us/step - loss: 0.9452 - acc: 0.8546 - val_loss: 0.8941 - val_acc: 0.8368\n",
      "Epoch 5/50\n",
      "1114/1114 [==============================] - 0s 85us/step - loss: 0.7167 - acc: 0.8977 - val_loss: 0.7303 - val_acc: 0.8577\n",
      "Epoch 6/50\n",
      "1114/1114 [==============================] - 0s 82us/step - loss: 0.5707 - acc: 0.9129 - val_loss: 0.6329 - val_acc: 0.8682\n",
      "Epoch 7/50\n",
      "1114/1114 [==============================] - 0s 90us/step - loss: 0.4755 - acc: 0.9273 - val_loss: 0.5588 - val_acc: 0.8703\n",
      "Epoch 8/50\n",
      "1114/1114 [==============================] - 0s 86us/step - loss: 0.4063 - acc: 0.9345 - val_loss: 0.5033 - val_acc: 0.8849\n",
      "Epoch 9/50\n",
      "1114/1114 [==============================] - 0s 92us/step - loss: 0.3549 - acc: 0.9452 - val_loss: 0.4659 - val_acc: 0.8849\n",
      "Epoch 10/50\n",
      "1114/1114 [==============================] - 0s 86us/step - loss: 0.3125 - acc: 0.9515 - val_loss: 0.4353 - val_acc: 0.8933\n",
      "Epoch 11/50\n",
      "1114/1114 [==============================] - 0s 87us/step - loss: 0.2810 - acc: 0.9569 - val_loss: 0.4155 - val_acc: 0.8933\n",
      "Epoch 12/50\n",
      "1114/1114 [==============================] - 0s 88us/step - loss: 0.2545 - acc: 0.9578 - val_loss: 0.3884 - val_acc: 0.9079\n",
      "Epoch 13/50\n",
      "1114/1114 [==============================] - 0s 85us/step - loss: 0.2318 - acc: 0.9686 - val_loss: 0.3725 - val_acc: 0.9100\n",
      "Epoch 14/50\n",
      "1114/1114 [==============================] - 0s 78us/step - loss: 0.2125 - acc: 0.9695 - val_loss: 0.3568 - val_acc: 0.9079\n",
      "Epoch 15/50\n",
      "1114/1114 [==============================] - 0s 89us/step - loss: 0.1957 - acc: 0.9758 - val_loss: 0.3473 - val_acc: 0.9184\n",
      "Epoch 16/50\n",
      "1114/1114 [==============================] - 0s 86us/step - loss: 0.1815 - acc: 0.9767 - val_loss: 0.3360 - val_acc: 0.9142\n",
      "Epoch 17/50\n",
      "1114/1114 [==============================] - 0s 89us/step - loss: 0.1685 - acc: 0.9829 - val_loss: 0.3259 - val_acc: 0.9226\n",
      "Epoch 18/50\n",
      "1114/1114 [==============================] - 0s 88us/step - loss: 0.1567 - acc: 0.9874 - val_loss: 0.3184 - val_acc: 0.9205\n",
      "Epoch 19/50\n",
      "1114/1114 [==============================] - 0s 86us/step - loss: 0.1470 - acc: 0.9892 - val_loss: 0.3134 - val_acc: 0.9184\n",
      "Epoch 20/50\n",
      "1114/1114 [==============================] - 0s 79us/step - loss: 0.1373 - acc: 0.9892 - val_loss: 0.3063 - val_acc: 0.9184\n",
      "Epoch 21/50\n",
      "1114/1114 [==============================] - 0s 90us/step - loss: 0.1290 - acc: 0.9901 - val_loss: 0.3017 - val_acc: 0.9205\n",
      "Epoch 22/50\n",
      "1114/1114 [==============================] - 0s 81us/step - loss: 0.1213 - acc: 0.9910 - val_loss: 0.2959 - val_acc: 0.9268\n",
      "Epoch 23/50\n",
      "1114/1114 [==============================] - 0s 88us/step - loss: 0.1148 - acc: 0.9910 - val_loss: 0.2923 - val_acc: 0.9226\n",
      "Epoch 24/50\n",
      "1114/1114 [==============================] - 0s 90us/step - loss: 0.1082 - acc: 0.9919 - val_loss: 0.2888 - val_acc: 0.9205\n",
      "Epoch 25/50\n",
      "1114/1114 [==============================] - 0s 90us/step - loss: 0.1024 - acc: 0.9919 - val_loss: 0.2862 - val_acc: 0.9226\n",
      "Epoch 26/50\n",
      "1114/1114 [==============================] - 0s 90us/step - loss: 0.0972 - acc: 0.9946 - val_loss: 0.2827 - val_acc: 0.9226\n",
      "Epoch 27/50\n",
      "1114/1114 [==============================] - 0s 87us/step - loss: 0.0923 - acc: 0.9946 - val_loss: 0.2804 - val_acc: 0.9205\n",
      "Epoch 28/50\n",
      "1114/1114 [==============================] - 0s 80us/step - loss: 0.0878 - acc: 0.9946 - val_loss: 0.2768 - val_acc: 0.9247\n",
      "Epoch 29/50\n",
      "1114/1114 [==============================] - 0s 98us/step - loss: 0.0839 - acc: 0.9946 - val_loss: 0.2753 - val_acc: 0.9247\n",
      "Epoch 30/50\n",
      "1114/1114 [==============================] - 0s 98us/step - loss: 0.0800 - acc: 0.9955 - val_loss: 0.2744 - val_acc: 0.9205\n",
      "Epoch 31/50\n",
      "1114/1114 [==============================] - 0s 81us/step - loss: 0.0761 - acc: 0.9955 - val_loss: 0.2715 - val_acc: 0.9247\n",
      "Epoch 32/50\n",
      "1114/1114 [==============================] - 0s 80us/step - loss: 0.0731 - acc: 0.9964 - val_loss: 0.2696 - val_acc: 0.9226\n",
      "Epoch 33/50\n",
      "1114/1114 [==============================] - 0s 76us/step - loss: 0.0700 - acc: 0.9964 - val_loss: 0.2678 - val_acc: 0.9247\n",
      "Epoch 34/50\n",
      "1114/1114 [==============================] - 0s 82us/step - loss: 0.0670 - acc: 0.9973 - val_loss: 0.2672 - val_acc: 0.9226\n",
      "Epoch 35/50\n",
      "1114/1114 [==============================] - 0s 79us/step - loss: 0.0645 - acc: 0.9973 - val_loss: 0.2657 - val_acc: 0.9226\n",
      "Epoch 36/50\n",
      "1114/1114 [==============================] - 0s 89us/step - loss: 0.0619 - acc: 0.9973 - val_loss: 0.2657 - val_acc: 0.9205\n",
      "Epoch 37/50\n",
      "1114/1114 [==============================] - 0s 81us/step - loss: 0.0596 - acc: 0.9982 - val_loss: 0.2639 - val_acc: 0.9226\n",
      "Epoch 38/50\n",
      "1114/1114 [==============================] - 0s 84us/step - loss: 0.0573 - acc: 0.9982 - val_loss: 0.2637 - val_acc: 0.9205\n",
      "Epoch 39/50\n",
      "1114/1114 [==============================] - 0s 94us/step - loss: 0.0553 - acc: 0.9982 - val_loss: 0.2620 - val_acc: 0.9226\n",
      "Epoch 40/50\n",
      "1114/1114 [==============================] - 0s 82us/step - loss: 0.0534 - acc: 0.9982 - val_loss: 0.2614 - val_acc: 0.9205\n",
      "Epoch 41/50\n",
      "1114/1114 [==============================] - 0s 86us/step - loss: 0.0514 - acc: 0.9991 - val_loss: 0.2614 - val_acc: 0.9163\n",
      "Epoch 42/50\n",
      "1114/1114 [==============================] - 0s 146us/step - loss: 0.0498 - acc: 0.9982 - val_loss: 0.2599 - val_acc: 0.9226\n",
      "Epoch 43/50\n",
      "1114/1114 [==============================] - 0s 75us/step - loss: 0.0482 - acc: 0.9991 - val_loss: 0.2593 - val_acc: 0.9184\n",
      "Epoch 44/50\n",
      "1114/1114 [==============================] - 0s 80us/step - loss: 0.0466 - acc: 0.9991 - val_loss: 0.2585 - val_acc: 0.9226\n",
      "Epoch 45/50\n",
      "1114/1114 [==============================] - 0s 89us/step - loss: 0.0452 - acc: 0.9991 - val_loss: 0.2580 - val_acc: 0.9205\n",
      "Epoch 46/50\n",
      "1114/1114 [==============================] - 0s 80us/step - loss: 0.0438 - acc: 0.9991 - val_loss: 0.2569 - val_acc: 0.9247\n",
      "Epoch 47/50\n",
      "1114/1114 [==============================] - 0s 80us/step - loss: 0.0425 - acc: 0.9991 - val_loss: 0.2569 - val_acc: 0.9184\n",
      "Epoch 48/50\n",
      "1114/1114 [==============================] - 0s 89us/step - loss: 0.0413 - acc: 0.9991 - val_loss: 0.2565 - val_acc: 0.9226\n",
      "Epoch 49/50\n",
      "1114/1114 [==============================] - 0s 81us/step - loss: 0.0400 - acc: 0.9991 - val_loss: 0.2567 - val_acc: 0.9226\n",
      "Epoch 50/50\n",
      "1114/1114 [==============================] - 0s 73us/step - loss: 0.0390 - acc: 0.9991 - val_loss: 0.2563 - val_acc: 0.9205\n"
     ]
    }
   ],
   "source": [
    "NN_Model_Capture = NN_Model100.fit(Indep_train, Dep_train, epochs = 50, \n",
    "                                validation_data = (Indep_test, Dep_test))"
   ]
  },
  {
   "cell_type": "markdown",
   "metadata": {},
   "source": [
    "#### Accuracy on Training AND Test Set"
   ]
  },
  {
   "cell_type": "code",
   "execution_count": 132,
   "metadata": {},
   "outputs": [
    {
     "name": "stdout",
     "output_type": "stream",
     "text": [
      "Accuracy for Training Set: 0.999102\n",
      "Lossfor Training Set: 0.037541\n"
     ]
    }
   ],
   "source": [
    "loss, accuracy = NN_Model100.evaluate(Indep_train, Dep_train, verbose=0)\n",
    "print('Accuracy for Training Set: %f' % (accuracy))\n",
    "print('Lossfor Training Set: %f' % (loss))"
   ]
  },
  {
   "cell_type": "code",
   "execution_count": 133,
   "metadata": {},
   "outputs": [
    {
     "name": "stdout",
     "output_type": "stream",
     "text": [
      "Accuracy for Training Set: 0.9538240572836927\n",
      "Accuracy for Test Set: 0.8955648535564855\n"
     ]
    }
   ],
   "source": [
    "print('Accuracy for Training Set:', np.mean(NN_Model_Capture.history[\"acc\"]))\n",
    "print('Accuracy for Test Set:', np.mean(NN_Model_Capture.history[\"val_acc\"]))"
   ]
  },
  {
   "cell_type": "markdown",
   "metadata": {},
   "source": [
    "#### Confusion Matrix"
   ]
  },
  {
   "cell_type": "code",
   "execution_count": 134,
   "metadata": {},
   "outputs": [],
   "source": [
    "Dependent_Pred = NN_Model100.predict(Indep_test)\n",
    "Predicted_classes = np.argmax(Dependent_Pred, axis = 1)"
   ]
  },
  {
   "cell_type": "code",
   "execution_count": 135,
   "metadata": {},
   "outputs": [
    {
     "data": {
      "text/plain": [
       "array([[49,  0,  0,  0,  0,  0,  0,  0,  0,  0],\n",
       "       [ 0, 45,  0,  0,  0,  0,  0,  1,  0,  1],\n",
       "       [ 0,  3, 44,  1,  0,  0,  0,  0,  1,  1],\n",
       "       [ 0,  1,  0, 36,  0,  2,  0,  1,  0,  1],\n",
       "       [ 0,  1,  0,  0, 48,  0,  1,  1,  0,  1],\n",
       "       [ 0,  0,  0,  2,  0, 49,  0,  0,  1,  0],\n",
       "       [ 0,  0,  0,  0,  0,  0, 46,  0,  0,  0],\n",
       "       [ 0,  0,  0,  0,  3,  0,  1, 37,  0,  0],\n",
       "       [ 0,  0,  4,  0,  0,  0,  0,  0, 42,  1],\n",
       "       [ 1,  2,  0,  2,  0,  1,  0,  1,  2, 44]], dtype=int64)"
      ]
     },
     "execution_count": 135,
     "metadata": {},
     "output_type": "execute_result"
    }
   ],
   "source": [
    "Confusion_Matrix = confusion_matrix(Dep_test.values.argmax(axis=1), Predicted_classes)\n",
    "Confusion_Matrix"
   ]
  },
  {
   "cell_type": "markdown",
   "metadata": {},
   "source": [
    "#### Summarized Result on the Test Set"
   ]
  },
  {
   "cell_type": "code",
   "execution_count": 136,
   "metadata": {},
   "outputs": [
    {
     "name": "stdout",
     "output_type": "stream",
     "text": [
      "              precision    recall  f1-score   support\n",
      "\n",
      "           0       0.98      1.00      0.99        49\n",
      "           1       0.87      0.96      0.91        47\n",
      "           2       0.92      0.88      0.90        50\n",
      "           3       0.88      0.88      0.88        41\n",
      "           4       0.94      0.92      0.93        52\n",
      "           5       0.94      0.94      0.94        52\n",
      "           6       0.96      1.00      0.98        46\n",
      "           7       0.90      0.90      0.90        41\n",
      "           8       0.91      0.89      0.90        47\n",
      "           9       0.90      0.83      0.86        53\n",
      "\n",
      "   micro avg       0.92      0.92      0.92       478\n",
      "   macro avg       0.92      0.92      0.92       478\n",
      "weighted avg       0.92      0.92      0.92       478\n",
      "\n"
     ]
    }
   ],
   "source": [
    "Summarized_Result = classification_report(Dep_test.values.argmax(axis=1), Predicted_classes)\n",
    "print(Summarized_Result)"
   ]
  },
  {
   "cell_type": "markdown",
   "metadata": {},
   "source": [
    "#### 1b. Give a plot of both training and test accuracy as a function of epoch number (graph both of these on sample plot)."
   ]
  },
  {
   "cell_type": "code",
   "execution_count": 137,
   "metadata": {},
   "outputs": [],
   "source": [
    "Capture_acc = NN_Model_Capture.history['acc']\n",
    "Capture_val_acc = NN_Model_Capture.history['val_acc']\n",
    "Capture_loss = NN_Model_Capture.history['loss']\n",
    "Capture_val_loss = NN_Model_Capture.history['val_loss']\n",
    "epochs = range(1, len(Capture_acc) + 1)"
   ]
  },
  {
   "cell_type": "code",
   "execution_count": 138,
   "metadata": {},
   "outputs": [
    {
     "data": {
      "text/plain": [
       "<Figure size 432x288 with 0 Axes>"
      ]
     },
     "execution_count": 138,
     "metadata": {},
     "output_type": "execute_result"
    },
    {
     "data": {
      "image/png": "[encoded data removed]",
      "text/plain": [
       "<Figure size 432x288 with 1 Axes>"
      ]
     },
     "metadata": {
      "needs_background": "light"
     },
     "output_type": "display_data"
    },
    {
     "data": {
      "text/plain": [
       "<Figure size 432x288 with 0 Axes>"
      ]
     },
     "metadata": {},
     "output_type": "display_data"
    }
   ],
   "source": [
    "plt.plot(epochs, Capture_acc, 'bo', label = 'Training Accuracy')\n",
    "plt.plot(epochs, Capture_val_acc, 'b', label = 'Test Accuracy')\n",
    "plt.title('Training and Test Accuracy as a Function of Epoch Number')\n",
    "plt.legend()\n",
    "plt.figure()"
   ]
  },
  {
   "cell_type": "markdown",
   "metadata": {},
   "source": [
    "#### 1c. Discuss your results. How does number of hidden units affect the final accuracy on the test data?"
   ]
  },
  {
   "cell_type": "markdown",
   "metadata": {},
   "source": [
    "**It is obvious that as the number of hidden layers increases, the final accuracy on the test data decreases, this is empirically supported by the fact that hidden unit 20 yielded a test accuracy of  0.8393723848474575 while 50 yielded  0.4970711299783266 and 100  yielded 0.0974058579837428**"
   ]
  },
  {
   "cell_type": "markdown",
   "metadata": {},
   "source": [
    "#### ============================================================================================================================="
   ]
  },
  {
   "cell_type": "markdown",
   "metadata": {},
   "source": [
    "#### 1d. Discuss your results. How does number of hidden units affect number of epochs needed for training to converge?"
   ]
  },
  {
   "cell_type": "markdown",
   "metadata": {},
   "source": [
    "**With convergence meaning the network has learned to properly respond to a set of training patterns within some margin of error and while the margin of error in this instance in machine learning is the  idea of minimizing the loss function and looking at the trend of the three models, I can say as the number hidden units increase the algorithm will need an increased number of epochs to converge.**"
   ]
  },
  {
   "cell_type": "markdown",
   "metadata": {},
   "source": [
    "#### ============================================================================================================================="
   ]
  },
  {
   "cell_type": "markdown",
   "metadata": {},
   "source": [
    "#### 1e. Is there any evidence that any of your networks overfit to the training data? If so, what is the evidence?"
   ]
  },
  {
   "cell_type": "markdown",
   "metadata": {},
   "source": [
    "**There are several criteria to tell that ANN model is overfitted and some of them are when training accuracy is significantly better than the test accuracy. But in all the three models, the difference between the test and training accuracy is less than 0.01, making it difficult to tell if any of the models are overfit.  Also when there is more model parameter information than training data information it is a clear evidence os overfitting and in our case of the models have that problem. Based on the last criteria, will say all the three models are overfitted.**"
   ]
  },
  {
   "cell_type": "markdown",
   "metadata": {},
   "source": [
    "# Question 2:"
   ]
  },
  {
   "cell_type": "code",
   "execution_count": 139,
   "metadata": {},
   "outputs": [],
   "source": [
    "#Selecting one quarter and one half of the training\n",
    "Indep_25 = Independent25.sample(frac=0.325) \n",
    "Dep_25 = Dependent.sample(frac=0.325)\n",
    "Indep_50 = Independent25.sample(frac=0.65) \n",
    "Dep_50 = Dependent.sample(frac=0.65)"
   ]
  },
  {
   "cell_type": "code",
   "execution_count": 140,
   "metadata": {},
   "outputs": [
    {
     "name": "stderr",
     "output_type": "stream",
     "text": [
      "C:\\Users\\CHERPENS\\Anaconda3\\lib\\site-packages\\ipykernel_launcher.py:1: DataConversionWarning: Data with input dtype int64 were all converted to float64 by StandardScaler.\n",
      "  \"\"\"Entry point for launching an IPython kernel.\n",
      "C:\\Users\\CHERPENS\\Anaconda3\\lib\\site-packages\\ipykernel_launcher.py:2: DataConversionWarning: Data with input dtype int64 were all converted to float64 by StandardScaler.\n",
      "  \n"
     ]
    }
   ],
   "source": [
    "Indep_25 = standardize.transform(Indep_25)\n",
    "Indep_50 = standardize.transform(Indep_50)"
   ]
  },
  {
   "cell_type": "markdown",
   "metadata": {},
   "source": [
    "## One Quarter Dataset"
   ]
  },
  {
   "cell_type": "code",
   "execution_count": 168,
   "metadata": {},
   "outputs": [],
   "source": [
    "Indep_train, Indep_test, Dep_train, Dep_test = train_test_split(Indep_25, Dep_25, test_size=0.232, random_state=0)"
   ]
  },
  {
   "cell_type": "code",
   "execution_count": 169,
   "metadata": {},
   "outputs": [],
   "source": [
    "NN_Model25 = Seq()"
   ]
  },
  {
   "cell_type": "code",
   "execution_count": 170,
   "metadata": {},
   "outputs": [],
   "source": [
    "#Adding 50 Hidden and 10 output layers to the model\n",
    "NN_Model25.add(Dense(100, input_dim = 256, bias_constraint = unit_norm(axis = 0),\n",
    "                   activation = 'sigmoid'))\n",
    "NN_Model25.add(Dense(10, bias_constraint = unit_norm(axis = 0), activation = 'sigmoid'))"
   ]
  },
  {
   "cell_type": "markdown",
   "metadata": {},
   "source": [
    "**Model Compilation**"
   ]
  },
  {
   "cell_type": "code",
   "execution_count": 171,
   "metadata": {},
   "outputs": [],
   "source": [
    "NN_Model25.compile(optimizer = BPSGD_opt, loss = 'categorical_crossentropy', metrics = ['accuracy'])"
   ]
  },
  {
   "cell_type": "code",
   "execution_count": 172,
   "metadata": {},
   "outputs": [
    {
     "name": "stdout",
     "output_type": "stream",
     "text": [
      "_________________________________________________________________\n",
      "Layer (type)                 Output Shape              Param #   \n",
      "=================================================================\n",
      "dense_25 (Dense)             (None, 100)               25700     \n",
      "_________________________________________________________________\n",
      "dense_26 (Dense)             (None, 10)                1010      \n",
      "=================================================================\n",
      "Total params: 26,710\n",
      "Trainable params: 26,710\n",
      "Non-trainable params: 0\n",
      "_________________________________________________________________\n"
     ]
    }
   ],
   "source": [
    "NN_Model25.summary()"
   ]
  },
  {
   "cell_type": "markdown",
   "metadata": {},
   "source": [
    "**Fitting the NN Model**"
   ]
  },
  {
   "cell_type": "code",
   "execution_count": 173,
   "metadata": {},
   "outputs": [
    {
     "name": "stdout",
     "output_type": "stream",
     "text": [
      "Train on 397 samples, validate on 120 samples\n",
      "Epoch 1/50\n",
      "397/397 [==============================] - 1s 2ms/step - loss: 2.3545 - acc: 0.0907 - val_loss: 2.3289 - val_acc: 0.1250\n",
      "Epoch 2/50\n",
      "397/397 [==============================] - 0s 124us/step - loss: 2.3027 - acc: 0.0932 - val_loss: 2.3271 - val_acc: 0.1250\n",
      "Epoch 3/50\n",
      "397/397 [==============================] - 0s 113us/step - loss: 2.2859 - acc: 0.0932 - val_loss: 2.3229 - val_acc: 0.0833\n",
      "Epoch 4/50\n",
      "397/397 [==============================] - 0s 88us/step - loss: 2.2710 - acc: 0.1209 - val_loss: 2.3230 - val_acc: 0.0750\n",
      "Epoch 5/50\n",
      "397/397 [==============================] - 0s 103us/step - loss: 2.2572 - acc: 0.1310 - val_loss: 2.3267 - val_acc: 0.0750\n",
      "Epoch 6/50\n",
      "397/397 [==============================] - 0s 95us/step - loss: 2.2426 - acc: 0.1713 - val_loss: 2.3368 - val_acc: 0.0750\n",
      "Epoch 7/50\n",
      "397/397 [==============================] - 0s 90us/step - loss: 2.2288 - acc: 0.1864 - val_loss: 2.3378 - val_acc: 0.0750\n",
      "Epoch 8/50\n",
      "397/397 [==============================] - 0s 108us/step - loss: 2.2111 - acc: 0.1688 - val_loss: 2.3352 - val_acc: 0.0833\n",
      "Epoch 9/50\n",
      "397/397 [==============================] - 0s 101us/step - loss: 2.1937 - acc: 0.2065 - val_loss: 2.3415 - val_acc: 0.0833\n",
      "Epoch 10/50\n",
      "397/397 [==============================] - 0s 95us/step - loss: 2.1767 - acc: 0.2091 - val_loss: 2.3443 - val_acc: 0.0750\n",
      "Epoch 11/50\n",
      "397/397 [==============================] - 0s 118us/step - loss: 2.1551 - acc: 0.2469 - val_loss: 2.3378 - val_acc: 0.0833\n",
      "Epoch 12/50\n",
      "397/397 [==============================] - 0s 106us/step - loss: 2.1364 - acc: 0.2267 - val_loss: 2.3555 - val_acc: 0.1000\n",
      "Epoch 13/50\n",
      "397/397 [==============================] - 0s 111us/step - loss: 2.1135 - acc: 0.2267 - val_loss: 2.3697 - val_acc: 0.0750\n",
      "Epoch 14/50\n",
      "397/397 [==============================] - 0s 106us/step - loss: 2.0865 - acc: 0.2695 - val_loss: 2.3651 - val_acc: 0.0833\n",
      "Epoch 15/50\n",
      "397/397 [==============================] - 0s 93us/step - loss: 2.0609 - acc: 0.2922 - val_loss: 2.3811 - val_acc: 0.0667\n",
      "Epoch 16/50\n",
      "397/397 [==============================] - 0s 93us/step - loss: 2.0398 - acc: 0.2695 - val_loss: 2.3765 - val_acc: 0.0750\n",
      "Epoch 17/50\n",
      "397/397 [==============================] - 0s 93us/step - loss: 2.0078 - acc: 0.3048 - val_loss: 2.3793 - val_acc: 0.0833\n",
      "Epoch 18/50\n",
      "397/397 [==============================] - 0s 88us/step - loss: 1.9752 - acc: 0.3199 - val_loss: 2.4052 - val_acc: 0.0917\n",
      "Epoch 19/50\n",
      "397/397 [==============================] - 0s 103us/step - loss: 1.9511 - acc: 0.3703 - val_loss: 2.4289 - val_acc: 0.0667\n",
      "Epoch 20/50\n",
      "397/397 [==============================] - 0s 116us/step - loss: 1.9217 - acc: 0.3728 - val_loss: 2.4154 - val_acc: 0.0833\n",
      "Epoch 21/50\n",
      "397/397 [==============================] - 0s 93us/step - loss: 1.8888 - acc: 0.3829 - val_loss: 2.4190 - val_acc: 0.0917\n",
      "Epoch 22/50\n",
      "397/397 [==============================] - 0s 85us/step - loss: 1.8530 - acc: 0.4207 - val_loss: 2.4457 - val_acc: 0.0750\n",
      "Epoch 23/50\n",
      "397/397 [==============================] - 0s 98us/step - loss: 1.8232 - acc: 0.4181 - val_loss: 2.4448 - val_acc: 0.0833\n",
      "Epoch 24/50\n",
      "397/397 [==============================] - 0s 85us/step - loss: 1.7918 - acc: 0.4383 - val_loss: 2.4631 - val_acc: 0.0833\n",
      "Epoch 25/50\n",
      "397/397 [==============================] - 0s 95us/step - loss: 1.7625 - acc: 0.4710 - val_loss: 2.4661 - val_acc: 0.0917\n",
      "Epoch 26/50\n",
      "397/397 [==============================] - 0s 98us/step - loss: 1.7324 - acc: 0.4811 - val_loss: 2.4563 - val_acc: 0.1000\n",
      "Epoch 27/50\n",
      "397/397 [==============================] - 0s 98us/step - loss: 1.7004 - acc: 0.5063 - val_loss: 2.4751 - val_acc: 0.1083\n",
      "Epoch 28/50\n",
      "397/397 [==============================] - 0s 98us/step - loss: 1.6626 - acc: 0.5139 - val_loss: 2.5168 - val_acc: 0.0917\n",
      "Epoch 29/50\n",
      "397/397 [==============================] - 0s 88us/step - loss: 1.6301 - acc: 0.5239 - val_loss: 2.5034 - val_acc: 0.1000\n",
      "Epoch 30/50\n",
      "397/397 [==============================] - 0s 90us/step - loss: 1.5907 - acc: 0.5516 - val_loss: 2.5192 - val_acc: 0.0917\n",
      "Epoch 31/50\n",
      "397/397 [==============================] - 0s 83us/step - loss: 1.5653 - acc: 0.5516 - val_loss: 2.5786 - val_acc: 0.1667\n",
      "Epoch 32/50\n",
      "397/397 [==============================] - 0s 85us/step - loss: 1.5279 - acc: 0.5768 - val_loss: 2.5682 - val_acc: 0.1000\n",
      "Epoch 33/50\n",
      "397/397 [==============================] - 0s 98us/step - loss: 1.5029 - acc: 0.5894 - val_loss: 2.5587 - val_acc: 0.0917\n",
      "Epoch 34/50\n",
      "397/397 [==============================] - 0s 88us/step - loss: 1.4672 - acc: 0.5945 - val_loss: 2.5784 - val_acc: 0.0917\n",
      "Epoch 35/50\n",
      "397/397 [==============================] - 0s 103us/step - loss: 1.4252 - acc: 0.6348 - val_loss: 2.6009 - val_acc: 0.0833\n",
      "Epoch 36/50\n",
      "397/397 [==============================] - 0s 88us/step - loss: 1.3963 - acc: 0.6549 - val_loss: 2.6199 - val_acc: 0.1083\n",
      "Epoch 37/50\n",
      "397/397 [==============================] - 0s 80us/step - loss: 1.3624 - acc: 0.6474 - val_loss: 2.6284 - val_acc: 0.0833\n",
      "Epoch 38/50\n",
      "397/397 [==============================] - 0s 83us/step - loss: 1.3244 - acc: 0.6952 - val_loss: 2.6785 - val_acc: 0.1167\n",
      "Epoch 39/50\n",
      "397/397 [==============================] - 0s 95us/step - loss: 1.3018 - acc: 0.6826 - val_loss: 2.6774 - val_acc: 0.0833\n",
      "Epoch 40/50\n",
      "397/397 [==============================] - 0s 95us/step - loss: 1.2664 - acc: 0.6952 - val_loss: 2.6537 - val_acc: 0.0833\n",
      "Epoch 41/50\n",
      "397/397 [==============================] - 0s 88us/step - loss: 1.2303 - acc: 0.7204 - val_loss: 2.6653 - val_acc: 0.0750\n",
      "Epoch 42/50\n",
      "397/397 [==============================] - 0s 78us/step - loss: 1.2079 - acc: 0.7078 - val_loss: 2.7323 - val_acc: 0.0583\n",
      "Epoch 43/50\n",
      "397/397 [==============================] - 0s 95us/step - loss: 1.1714 - acc: 0.7481 - val_loss: 2.7506 - val_acc: 0.0750\n",
      "Epoch 44/50\n",
      "397/397 [==============================] - 0s 93us/step - loss: 1.1330 - acc: 0.7632 - val_loss: 2.7955 - val_acc: 0.0917\n",
      "Epoch 45/50\n",
      "397/397 [==============================] - 0s 88us/step - loss: 1.1107 - acc: 0.7632 - val_loss: 2.7752 - val_acc: 0.0583\n",
      "Epoch 46/50\n",
      "397/397 [==============================] - 0s 80us/step - loss: 1.0739 - acc: 0.7758 - val_loss: 2.7781 - val_acc: 0.0667\n",
      "Epoch 47/50\n",
      "397/397 [==============================] - 0s 95us/step - loss: 1.0466 - acc: 0.7834 - val_loss: 2.8457 - val_acc: 0.0667\n",
      "Epoch 48/50\n",
      "397/397 [==============================] - 0s 93us/step - loss: 1.0218 - acc: 0.8212 - val_loss: 2.8221 - val_acc: 0.0750\n",
      "Epoch 49/50\n",
      "397/397 [==============================] - 0s 85us/step - loss: 0.9863 - acc: 0.8186 - val_loss: 2.8707 - val_acc: 0.0750\n",
      "Epoch 50/50\n",
      "397/397 [==============================] - 0s 88us/step - loss: 0.9598 - acc: 0.8136 - val_loss: 2.8826 - val_acc: 0.0833\n"
     ]
    }
   ],
   "source": [
    "NN_Model_Capture = NN_Model25.fit(Indep_train, Dep_train, epochs = 50, \n",
    "                                validation_data = (Indep_test, Dep_test))"
   ]
  },
  {
   "cell_type": "markdown",
   "metadata": {},
   "source": [
    "#### Accuracy on Training AND Test Set"
   ]
  },
  {
   "cell_type": "code",
   "execution_count": 174,
   "metadata": {},
   "outputs": [
    {
     "name": "stdout",
     "output_type": "stream",
     "text": [
      "Accuracy for Training Set: 0.846348\n",
      "Lossfor Training Set: 0.905411\n"
     ]
    }
   ],
   "source": [
    "loss, accuracy = NN_Model25.evaluate(Indep_train, Dep_train, verbose=0)\n",
    "print('Accuracy for Training Set: %f' % (accuracy))\n",
    "print('Lossfor Training Set: %f' % (loss))"
   ]
  },
  {
   "cell_type": "code",
   "execution_count": 175,
   "metadata": {},
   "outputs": [
    {
     "name": "stdout",
     "output_type": "stream",
     "text": [
      "Accuracy for Training Set: 0.46231738069233125\n",
      "Accuracy for Test Set: 0.08666666690011819\n"
     ]
    }
   ],
   "source": [
    "print('Accuracy for Training Set:', np.mean(NN_Model_Capture.history[\"acc\"]))\n",
    "print('Accuracy for Test Set:', np.mean(NN_Model_Capture.history[\"val_acc\"]))"
   ]
  },
  {
   "cell_type": "markdown",
   "metadata": {},
   "source": [
    "#### Confusion Matrix"
   ]
  },
  {
   "cell_type": "code",
   "execution_count": 176,
   "metadata": {},
   "outputs": [],
   "source": [
    "Dependent_Pred = NN_Model25.predict(Indep_test)\n",
    "Predicted_classes = np.argmax(Dependent_Pred, axis = 1)"
   ]
  },
  {
   "cell_type": "code",
   "execution_count": 177,
   "metadata": {},
   "outputs": [
    {
     "data": {
      "text/plain": [
       "array([[3, 0, 1, 2, 4, 1, 2, 1, 0, 0],\n",
       "       [0, 0, 1, 1, 1, 3, 2, 2, 2, 3],\n",
       "       [0, 0, 2, 2, 2, 0, 2, 2, 1, 0],\n",
       "       [1, 0, 2, 0, 2, 3, 1, 0, 0, 2],\n",
       "       [1, 1, 1, 1, 3, 1, 3, 1, 0, 0],\n",
       "       [2, 0, 0, 1, 3, 1, 1, 0, 0, 1],\n",
       "       [2, 0, 3, 0, 1, 2, 0, 2, 0, 2],\n",
       "       [1, 0, 1, 1, 2, 0, 0, 0, 2, 1],\n",
       "       [2, 0, 3, 0, 6, 1, 0, 0, 0, 1],\n",
       "       [3, 1, 2, 2, 2, 1, 1, 2, 0, 1]], dtype=int64)"
      ]
     },
     "execution_count": 177,
     "metadata": {},
     "output_type": "execute_result"
    }
   ],
   "source": [
    "Confusion_Matrix = confusion_matrix(Dep_test.values.argmax(axis=1), Predicted_classes)\n",
    "Confusion_Matrix"
   ]
  },
  {
   "cell_type": "markdown",
   "metadata": {},
   "source": [
    "#### Summarized Result on the Test Set"
   ]
  },
  {
   "cell_type": "code",
   "execution_count": 178,
   "metadata": {},
   "outputs": [
    {
     "name": "stdout",
     "output_type": "stream",
     "text": [
      "              precision    recall  f1-score   support\n",
      "\n",
      "           0       0.20      0.21      0.21        14\n",
      "           1       0.00      0.00      0.00        15\n",
      "           2       0.12      0.18      0.15        11\n",
      "           3       0.00      0.00      0.00        11\n",
      "           4       0.12      0.25      0.16        12\n",
      "           5       0.08      0.11      0.09         9\n",
      "           6       0.00      0.00      0.00        12\n",
      "           7       0.00      0.00      0.00         8\n",
      "           8       0.00      0.00      0.00        13\n",
      "           9       0.09      0.07      0.08        15\n",
      "\n",
      "   micro avg       0.08      0.08      0.08       120\n",
      "   macro avg       0.06      0.08      0.07       120\n",
      "weighted avg       0.06      0.08      0.07       120\n",
      "\n"
     ]
    }
   ],
   "source": [
    "Summarized_Result = classification_report(Dep_test.values.argmax(axis=1), Predicted_classes)\n",
    "print(Summarized_Result)"
   ]
  },
  {
   "cell_type": "markdown",
   "metadata": {},
   "source": [
    "#### 1b. Give a plot of both training and test accuracy as a function of epoch number (graph both of these on sample plot)."
   ]
  },
  {
   "cell_type": "code",
   "execution_count": 179,
   "metadata": {},
   "outputs": [],
   "source": [
    "Capture_acc = NN_Model_Capture.history['acc']\n",
    "Capture_val_acc = NN_Model_Capture.history['val_acc']\n",
    "Capture_loss = NN_Model_Capture.history['loss']\n",
    "Capture_val_loss = NN_Model_Capture.history['val_loss']\n",
    "epochs = range(1, len(Capture_acc) + 1)"
   ]
  },
  {
   "cell_type": "code",
   "execution_count": 180,
   "metadata": {},
   "outputs": [
    {
     "data": {
      "text/plain": [
       "<Figure size 432x288 with 0 Axes>"
      ]
     },
     "execution_count": 180,
     "metadata": {},
     "output_type": "execute_result"
    },
    {
     "data": {
      "image/png": "[encoded data removed]",
      "text/plain": [
       "<Figure size 432x288 with 1 Axes>"
      ]
     },
     "metadata": {
      "needs_background": "light"
     },
     "output_type": "display_data"
    },
    {
     "data": {
      "text/plain": [
       "<Figure size 432x288 with 0 Axes>"
      ]
     },
     "metadata": {},
     "output_type": "display_data"
    }
   ],
   "source": [
    "plt.plot(epochs, Capture_acc, 'bo', label = 'Training Accuracy')\n",
    "plt.plot(epochs, Capture_val_acc, 'b', label = 'Test Accuracy')\n",
    "plt.title('Training and Test Accuracy as a Function of Epoch Number')\n",
    "plt.legend()\n",
    "plt.figure()"
   ]
  },
  {
   "cell_type": "markdown",
   "metadata": {},
   "source": [
    "## One Half Dataset"
   ]
  },
  {
   "cell_type": "code",
   "execution_count": 181,
   "metadata": {},
   "outputs": [],
   "source": [
    "Indep_train, Indep_test, Dep_train, Dep_test = train_test_split(Indep_50, Dep_50, test_size=0.23, random_state=0)"
   ]
  },
  {
   "cell_type": "code",
   "execution_count": 182,
   "metadata": {},
   "outputs": [],
   "source": [
    "NN_Model55 = Seq()"
   ]
  },
  {
   "cell_type": "code",
   "execution_count": 183,
   "metadata": {},
   "outputs": [],
   "source": [
    "#Adding 50 Hidden and 10 output layers to the model\n",
    "NN_Model55.add(Dense(100, input_dim = 256, bias_constraint = unit_norm(axis = 0),\n",
    "                   activation = 'sigmoid'))\n",
    "NN_Model55.add(Dense(10, bias_constraint = unit_norm(axis = 0), activation = 'sigmoid'))"
   ]
  },
  {
   "cell_type": "code",
   "execution_count": 184,
   "metadata": {},
   "outputs": [],
   "source": [
    "BPSGD_opt = SGD(lr=0.1) #Set the learning rate to 0.1"
   ]
  },
  {
   "cell_type": "markdown",
   "metadata": {},
   "source": [
    "**Model Compilation**"
   ]
  },
  {
   "cell_type": "code",
   "execution_count": 185,
   "metadata": {},
   "outputs": [],
   "source": [
    "NN_Model55.compile(optimizer = BPSGD_opt, loss = 'categorical_crossentropy', metrics = ['accuracy'])"
   ]
  },
  {
   "cell_type": "code",
   "execution_count": 186,
   "metadata": {},
   "outputs": [
    {
     "name": "stdout",
     "output_type": "stream",
     "text": [
      "_________________________________________________________________\n",
      "Layer (type)                 Output Shape              Param #   \n",
      "=================================================================\n",
      "dense_27 (Dense)             (None, 100)               25700     \n",
      "_________________________________________________________________\n",
      "dense_28 (Dense)             (None, 10)                1010      \n",
      "=================================================================\n",
      "Total params: 26,710\n",
      "Trainable params: 26,710\n",
      "Non-trainable params: 0\n",
      "_________________________________________________________________\n"
     ]
    }
   ],
   "source": [
    "NN_Model55.summary()"
   ]
  },
  {
   "cell_type": "markdown",
   "metadata": {},
   "source": [
    "**Fitting the NN Model**"
   ]
  },
  {
   "cell_type": "code",
   "execution_count": 187,
   "metadata": {},
   "outputs": [
    {
     "name": "stdout",
     "output_type": "stream",
     "text": [
      "Train on 796 samples, validate on 239 samples\n",
      "Epoch 1/50\n",
      "796/796 [==============================] - 1s 900us/step - loss: 2.3211 - acc: 0.1018 - val_loss: 2.3227 - val_acc: 0.0753\n",
      "Epoch 2/50\n",
      "796/796 [==============================] - 0s 91us/step - loss: 2.2944 - acc: 0.1043 - val_loss: 2.3248 - val_acc: 0.0879\n",
      "Epoch 3/50\n",
      "796/796 [==============================] - 0s 99us/step - loss: 2.2820 - acc: 0.1181 - val_loss: 2.3308 - val_acc: 0.0921\n",
      "Epoch 4/50\n",
      "796/796 [==============================] - 0s 90us/step - loss: 2.2712 - acc: 0.1407 - val_loss: 2.3281 - val_acc: 0.0795\n",
      "Epoch 5/50\n",
      "796/796 [==============================] - 0s 84us/step - loss: 2.2579 - acc: 0.1332 - val_loss: 2.3371 - val_acc: 0.0711\n",
      "Epoch 6/50\n",
      "796/796 [==============================] - 0s 107us/step - loss: 2.2455 - acc: 0.1595 - val_loss: 2.3366 - val_acc: 0.0753\n",
      "Epoch 7/50\n",
      "796/796 [==============================] - 0s 86us/step - loss: 2.2303 - acc: 0.1759 - val_loss: 2.3368 - val_acc: 0.0921\n",
      "Epoch 8/50\n",
      "796/796 [==============================] - 0s 99us/step - loss: 2.2120 - acc: 0.1922 - val_loss: 2.3524 - val_acc: 0.0753\n",
      "Epoch 9/50\n",
      "796/796 [==============================] - 0s 98us/step - loss: 2.1928 - acc: 0.1985 - val_loss: 2.3639 - val_acc: 0.0795\n",
      "Epoch 10/50\n",
      "796/796 [==============================] - 0s 94us/step - loss: 2.1722 - acc: 0.2148 - val_loss: 2.3884 - val_acc: 0.0879\n",
      "Epoch 11/50\n",
      "796/796 [==============================] - 0s 90us/step - loss: 2.1505 - acc: 0.1985 - val_loss: 2.3828 - val_acc: 0.0628\n",
      "Epoch 12/50\n",
      "796/796 [==============================] - 0s 99us/step - loss: 2.1266 - acc: 0.2186 - val_loss: 2.4098 - val_acc: 0.0837\n",
      "Epoch 13/50\n",
      "796/796 [==============================] - 0s 99us/step - loss: 2.1020 - acc: 0.2450 - val_loss: 2.4272 - val_acc: 0.0711\n",
      "Epoch 14/50\n",
      "796/796 [==============================] - 0s 85us/step - loss: 2.0699 - acc: 0.2651 - val_loss: 2.4134 - val_acc: 0.0837\n",
      "Epoch 15/50\n",
      "796/796 [==============================] - 0s 85us/step - loss: 2.0471 - acc: 0.2739 - val_loss: 2.4304 - val_acc: 0.0962\n",
      "Epoch 16/50\n",
      "796/796 [==============================] - 0s 86us/step - loss: 2.0172 - acc: 0.2877 - val_loss: 2.4686 - val_acc: 0.0669\n",
      "Epoch 17/50\n",
      "796/796 [==============================] - 0s 96us/step - loss: 1.9893 - acc: 0.3003 - val_loss: 2.4864 - val_acc: 0.0795\n",
      "Epoch 18/50\n",
      "796/796 [==============================] - 0s 96us/step - loss: 1.9585 - acc: 0.3254 - val_loss: 2.4922 - val_acc: 0.0921\n",
      "Epoch 19/50\n",
      "796/796 [==============================] - 0s 91us/step - loss: 1.9286 - acc: 0.3342 - val_loss: 2.5028 - val_acc: 0.0962\n",
      "Epoch 20/50\n",
      "796/796 [==============================] - 0s 95us/step - loss: 1.9004 - acc: 0.3668 - val_loss: 2.5176 - val_acc: 0.0879\n",
      "Epoch 21/50\n",
      "796/796 [==============================] - 0s 84us/step - loss: 1.8698 - acc: 0.3492 - val_loss: 2.5603 - val_acc: 0.0669\n",
      "Epoch 22/50\n",
      "796/796 [==============================] - 0s 84us/step - loss: 1.8418 - acc: 0.3819 - val_loss: 2.5438 - val_acc: 0.1213\n",
      "Epoch 23/50\n",
      "796/796 [==============================] - 0s 93us/step - loss: 1.8080 - acc: 0.3920 - val_loss: 2.5753 - val_acc: 0.0962\n",
      "Epoch 24/50\n",
      "796/796 [==============================] - 0s 81us/step - loss: 1.7832 - acc: 0.4133 - val_loss: 2.5903 - val_acc: 0.1004\n",
      "Epoch 25/50\n",
      "796/796 [==============================] - 0s 90us/step - loss: 1.7491 - acc: 0.4372 - val_loss: 2.6053 - val_acc: 0.0795\n",
      "Epoch 26/50\n",
      "796/796 [==============================] - 0s 88us/step - loss: 1.7231 - acc: 0.4560 - val_loss: 2.6347 - val_acc: 0.0795\n",
      "Epoch 27/50\n",
      "796/796 [==============================] - 0s 83us/step - loss: 1.6935 - acc: 0.4535 - val_loss: 2.6580 - val_acc: 0.0795\n",
      "Epoch 28/50\n",
      "796/796 [==============================] - 0s 93us/step - loss: 1.6547 - acc: 0.4711 - val_loss: 2.6791 - val_acc: 0.1004\n",
      "Epoch 29/50\n",
      "796/796 [==============================] - 0s 85us/step - loss: 1.6292 - acc: 0.4761 - val_loss: 2.7284 - val_acc: 0.0711\n",
      "Epoch 30/50\n",
      "796/796 [==============================] - 0s 88us/step - loss: 1.6029 - acc: 0.4849 - val_loss: 2.7080 - val_acc: 0.0962\n",
      "Epoch 31/50\n",
      "796/796 [==============================] - 0s 83us/step - loss: 1.5774 - acc: 0.5050 - val_loss: 2.7424 - val_acc: 0.0711\n",
      "Epoch 32/50\n",
      "796/796 [==============================] - 0s 93us/step - loss: 1.5433 - acc: 0.5113 - val_loss: 2.7438 - val_acc: 0.0795\n",
      "Epoch 33/50\n",
      "796/796 [==============================] - 0s 89us/step - loss: 1.5158 - acc: 0.5276 - val_loss: 2.7748 - val_acc: 0.0669\n",
      "Epoch 34/50\n",
      "796/796 [==============================] - 0s 83us/step - loss: 1.4854 - acc: 0.5503 - val_loss: 2.8094 - val_acc: 0.0795\n",
      "Epoch 35/50\n",
      "796/796 [==============================] - 0s 93us/step - loss: 1.4528 - acc: 0.5553 - val_loss: 2.8097 - val_acc: 0.0837\n",
      "Epoch 36/50\n",
      "796/796 [==============================] - 0s 79us/step - loss: 1.4228 - acc: 0.5653 - val_loss: 2.8599 - val_acc: 0.0753\n",
      "Epoch 37/50\n",
      "796/796 [==============================] - 0s 74us/step - loss: 1.3929 - acc: 0.5879 - val_loss: 2.8637 - val_acc: 0.0711\n",
      "Epoch 38/50\n",
      "796/796 [==============================] - 0s 84us/step - loss: 1.3641 - acc: 0.5992 - val_loss: 2.8902 - val_acc: 0.0586\n",
      "Epoch 39/50\n",
      "796/796 [==============================] - 0s 90us/step - loss: 1.3354 - acc: 0.6080 - val_loss: 2.9054 - val_acc: 0.0711\n",
      "Epoch 40/50\n",
      "796/796 [==============================] - 0s 90us/step - loss: 1.3022 - acc: 0.6269 - val_loss: 2.9411 - val_acc: 0.0711\n",
      "Epoch 41/50\n",
      "796/796 [==============================] - 0s 86us/step - loss: 1.2712 - acc: 0.6357 - val_loss: 2.9478 - val_acc: 0.0711\n",
      "Epoch 42/50\n",
      "796/796 [==============================] - 0s 99us/step - loss: 1.2514 - acc: 0.6558 - val_loss: 2.9704 - val_acc: 0.0669\n",
      "Epoch 43/50\n",
      "796/796 [==============================] - 0s 85us/step - loss: 1.2160 - acc: 0.6709 - val_loss: 2.9973 - val_acc: 0.0837\n",
      "Epoch 44/50\n",
      "796/796 [==============================] - 0s 89us/step - loss: 1.1861 - acc: 0.6947 - val_loss: 3.0168 - val_acc: 0.0753\n",
      "Epoch 45/50\n",
      "796/796 [==============================] - 0s 88us/step - loss: 1.1612 - acc: 0.6771 - val_loss: 3.0754 - val_acc: 0.0795\n",
      "Epoch 46/50\n",
      "796/796 [==============================] - 0s 90us/step - loss: 1.1316 - acc: 0.6922 - val_loss: 3.0808 - val_acc: 0.0669\n",
      "Epoch 47/50\n",
      "796/796 [==============================] - 0s 76us/step - loss: 1.1004 - acc: 0.7073 - val_loss: 3.1070 - val_acc: 0.0628\n",
      "Epoch 48/50\n",
      "796/796 [==============================] - 0s 75us/step - loss: 1.0716 - acc: 0.7274 - val_loss: 3.1270 - val_acc: 0.0753\n",
      "Epoch 49/50\n",
      "796/796 [==============================] - 0s 85us/step - loss: 1.0481 - acc: 0.7374 - val_loss: 3.1580 - val_acc: 0.0628\n",
      "Epoch 50/50\n",
      "796/796 [==============================] - 0s 93us/step - loss: 1.0192 - acc: 0.7450 - val_loss: 3.1876 - val_acc: 0.0544\n"
     ]
    }
   ],
   "source": [
    "NN_Model_Capture = NN_Model55.fit(Indep_train, Dep_train, epochs = 50, \n",
    "                                validation_data = (Indep_test, Dep_test))"
   ]
  },
  {
   "cell_type": "markdown",
   "metadata": {},
   "source": [
    "#### Accuracy on Training AND Test Set"
   ]
  },
  {
   "cell_type": "code",
   "execution_count": 188,
   "metadata": {},
   "outputs": [
    {
     "name": "stdout",
     "output_type": "stream",
     "text": [
      "Accuracy for Training Set: 0.812814\n",
      "Lossfor Training Set: 0.938685\n"
     ]
    }
   ],
   "source": [
    "loss, accuracy = NN_Model55.evaluate(Indep_train, Dep_train, verbose=0)\n",
    "print('Accuracy for Training Set: %f' % (accuracy))\n",
    "print('Lossfor Training Set: %f' % (loss))"
   ]
  },
  {
   "cell_type": "code",
   "execution_count": 189,
   "metadata": {},
   "outputs": [
    {
     "name": "stdout",
     "output_type": "stream",
     "text": [
      "Accuracy for Training Set: 0.4249999999685503\n",
      "Accuracy for Test Set: 0.07907949796468644\n"
     ]
    }
   ],
   "source": [
    "print('Accuracy for Training Set:', np.mean(NN_Model_Capture.history[\"acc\"]))\n",
    "print('Accuracy for Test Set:', np.mean(NN_Model_Capture.history[\"val_acc\"]))"
   ]
  },
  {
   "cell_type": "markdown",
   "metadata": {},
   "source": [
    "#### Confusion Matrix"
   ]
  },
  {
   "cell_type": "code",
   "execution_count": 190,
   "metadata": {},
   "outputs": [],
   "source": [
    "Dependent_Pred = NN_Model55.predict(Indep_test)\n",
    "Predicted_classes = np.argmax(Dependent_Pred, axis = 1)"
   ]
  },
  {
   "cell_type": "code",
   "execution_count": 191,
   "metadata": {},
   "outputs": [
    {
     "data": {
      "text/plain": [
       "array([[2, 1, 3, 3, 1, 3, 0, 1, 2, 2],\n",
       "       [3, 2, 1, 1, 3, 4, 3, 4, 3, 5],\n",
       "       [1, 3, 1, 2, 5, 4, 1, 3, 1, 0],\n",
       "       [1, 1, 1, 2, 7, 7, 1, 2, 0, 2],\n",
       "       [5, 3, 1, 2, 0, 2, 1, 0, 3, 1],\n",
       "       [3, 4, 2, 0, 5, 2, 0, 3, 1, 1],\n",
       "       [4, 5, 1, 1, 5, 3, 0, 1, 1, 1],\n",
       "       [3, 2, 4, 0, 2, 4, 2, 2, 3, 7],\n",
       "       [5, 2, 2, 5, 5, 5, 1, 3, 1, 0],\n",
       "       [3, 0, 5, 1, 3, 4, 3, 6, 2, 1]], dtype=int64)"
      ]
     },
     "execution_count": 191,
     "metadata": {},
     "output_type": "execute_result"
    }
   ],
   "source": [
    "Confusion_Matrix = confusion_matrix(Dep_test.values.argmax(axis=1), Predicted_classes)\n",
    "Confusion_Matrix"
   ]
  },
  {
   "cell_type": "markdown",
   "metadata": {},
   "source": [
    "#### Summarized Result on the Test Set"
   ]
  },
  {
   "cell_type": "code",
   "execution_count": 192,
   "metadata": {},
   "outputs": [
    {
     "name": "stdout",
     "output_type": "stream",
     "text": [
      "              precision    recall  f1-score   support\n",
      "\n",
      "           0       0.07      0.11      0.08        18\n",
      "           1       0.09      0.07      0.08        29\n",
      "           2       0.05      0.05      0.05        21\n",
      "           3       0.12      0.08      0.10        24\n",
      "           4       0.00      0.00      0.00        18\n",
      "           5       0.05      0.10      0.07        21\n",
      "           6       0.00      0.00      0.00        22\n",
      "           7       0.08      0.07      0.07        29\n",
      "           8       0.06      0.03      0.04        29\n",
      "           9       0.05      0.04      0.04        28\n",
      "\n",
      "   micro avg       0.05      0.05      0.05       239\n",
      "   macro avg       0.06      0.05      0.05       239\n",
      "weighted avg       0.06      0.05      0.05       239\n",
      "\n"
     ]
    }
   ],
   "source": [
    "Summarized_Result = classification_report(Dep_test.values.argmax(axis=1), Predicted_classes)\n",
    "print(Summarized_Result)"
   ]
  },
  {
   "cell_type": "markdown",
   "metadata": {},
   "source": [
    "#### 1b. Give a plot of both training and test accuracy as a function of epoch number (graph both of these on sample plot)."
   ]
  },
  {
   "cell_type": "code",
   "execution_count": 193,
   "metadata": {},
   "outputs": [],
   "source": [
    "Capture_acc = NN_Model_Capture.history['acc']\n",
    "Capture_val_acc = NN_Model_Capture.history['val_acc']\n",
    "Capture_loss = NN_Model_Capture.history['loss']\n",
    "Capture_val_loss = NN_Model_Capture.history['val_loss']\n",
    "epochs = range(1, len(Capture_acc) + 1)"
   ]
  },
  {
   "cell_type": "code",
   "execution_count": 194,
   "metadata": {},
   "outputs": [
    {
     "data": {
      "text/plain": [
       "<Figure size 432x288 with 0 Axes>"
      ]
     },
     "execution_count": 194,
     "metadata": {},
     "output_type": "execute_result"
    },
    {
     "data": {
      "image/png": "[encoded data removed]",
      "text/plain": [
       "<Figure size 432x288 with 1 Axes>"
      ]
     },
     "metadata": {
      "needs_background": "light"
     },
     "output_type": "display_data"
    },
    {
     "data": {
      "text/plain": [
       "<Figure size 432x288 with 0 Axes>"
      ]
     },
     "metadata": {},
     "output_type": "display_data"
    }
   ],
   "source": [
    "plt.plot(epochs, Capture_acc, 'bo', label = 'Training Accuracy')\n",
    "plt.plot(epochs, Capture_val_acc, 'b', label = 'Test Accuracy')\n",
    "plt.title('Training and Test Accuracy as a Function of Epoch Number')\n",
    "plt.legend()\n",
    "plt.figure()"
   ]
  },
  {
   "cell_type": "code",
   "execution_count": null,
   "metadata": {},
   "outputs": [],
   "source": []
  }
 ],
 "metadata": {
  "kernelspec": {
   "display_name": "Python 3",
   "language": "python",
   "name": "python3"
  },
  "language_info": {
   "codemirror_mode": {
    "name": "ipython",
    "version": 3
   },
   "file_extension": ".py",
   "mimetype": "text/x-python",
   "name": "python",
   "nbconvert_exporter": "python",
   "pygments_lexer": "ipython3",
   "version": "3.6.8"
  }
 },
 "nbformat": 4,
 "nbformat_minor": 2
}
